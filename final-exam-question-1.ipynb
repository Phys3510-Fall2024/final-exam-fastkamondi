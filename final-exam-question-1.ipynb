{
 "cells": [
  {
   "cell_type": "markdown",
   "id": "9cbec6db-be7d-48d1-a2c1-75e4f1d83fb8",
   "metadata": {},
   "source": [
    "## Question #1 (50 points)\n",
    "\n",
    "***This question consists of plotting and a conceptual question. Pull code from homework and midterms to optimize your effort.***\n",
    "\n",
    "For the following potential energy for anharmonically coupled oscillators, create a figure that superimposes\n",
    "\n",
    "* a contour plot of the potential energy, and;\n",
    "* the trajectory of $Q_1$ and $Q_2$.\n",
    "\n",
    "### Point breakdown\n",
    "\n",
    "* Contour plot (20 points)\n",
    "* Trajectory plot (20 points)\n",
    "* Physical explanation (10 points)\n",
    "\n",
    "### The potential energy\n",
    "\n",
    "$$ \\Delta U = \\frac{1}{2} K_1 Q_1^2 + \\frac{1}{2} K_2 Q_2^2 + \\frac{1}{3} C Q_1 Q_2^2 $$\n",
    "\n",
    "### Constrained parameters and initial conditions\n",
    "\n",
    "Take $K_1 = 1$, $K_2 = 0.2$, $M_1 = M_2 = 1$, and $C=0.5$. For the initial conditions, take $Q_1(0) = 0$, $Q_2(0) = 1$, and both velocities starting at zero.\n",
    "\n",
    "### Plotting constraints\n",
    "Plot $Q_1$ and $Q_2$ on the horizontal and vertical axes, respectively. I suggest a meshgrid of at least $100 \\times 100$ points.\n",
    "\n",
    "For your contour plot, combine `plt.contour` and `plt.contourf` with code similar to the following:\n",
    "\n",
    "* `plt.contourf(Q1_grid, Q2_grid, U_grid, levels=50, cmap='viridis')`\n",
    "* `plt.contour(Q1_grid, Q2_grid, U_grid, levels=50, colors='white', linewidths=1)`\n",
    "\n",
    "Also, use `plt.xlim(-1.5, 1.5)` and `plt.ylim(-1.5, 1.5)`\n",
    "\n",
    "Don't forget to label your axes.\n",
    "\n",
    "### Getting and plotting the trajectory\n",
    "\n",
    "To get the trajectory, you will need to set up and solve the equations of motion, as we did in previous homework and in class. Then you can plot $Q_2$ versus $Q_1$ with `matplotlib` using a line of code similar to `plt.plot(Q1, Q2, color='red', label=\"Trajectory\")`.\n",
    "\n",
    "Plot the trajectory from $t=0$ to $t=50$, with an appropriate choice of mesh points to ensure the trajectory is resolved. (e.g. `t_mesh = np.linspace(0, 50, 200)`)\n",
    "\n",
    "### Physical explanation\n",
    "\n",
    "With your code complete, you can test four cases for the initial conditions (all with the initial velocity set to zero):\n",
    "\n",
    "1. $Q_1(0) = 0$, $Q_2(0) = 1$ (**submit this plot**)\n",
    "2. $Q_1(0) = 0$, $Q_2(0) = -1$\n",
    "3. $Q_1(0) = 1$, $Q_2(0) = 0$\n",
    "4. $Q_1(0) = -1$, $Q_2(0) = 0$\n",
    "\n",
    "Why do the dynamics differ when only $Q_1$ is initially displaced compared to when only $Q_2$ is initially displaced? How does this relate to the coupling term in the potential energy? What is the physical interpretation? You could use our cylindrical beam example from class to describe this, if you like.\n"
   ]
  },
  {
   "cell_type": "markdown",
   "id": "f2ae6a52-fd4f-47c1-bf45-157e4223ed8e",
   "metadata": {},
   "source": [
    "$$ \\Delta U = \\frac{1}{2} K_1 Q_1^2 + \\frac{1}{2} K_2 Q_2^2 + \\frac{1}{3} C Q_1 Q_2^2 $$"
   ]
  },
  {
   "cell_type": "code",
   "execution_count": 35,
   "id": "cb6b705f-69cb-4ed1-b3a4-adbf85b73c53",
   "metadata": {},
   "outputs": [
    {
     "data": {
      "application/vnd.jupyter.widget-view+json": {
       "model_id": "6031188d1fdc4d9996eb2482f7167502",
       "version_major": 2,
       "version_minor": 0
      },
      "text/plain": [
       "interactive(children=(FloatSlider(value=1.0, description='$K_1$', max=20.0, min=-20.0), FloatSlider(value=0.2,…"
      ]
     },
     "metadata": {},
     "output_type": "display_data"
    },
    {
     "data": {
      "text/plain": [
       "<function __main__.plot_coupled_oscillators(K1, K2, C)>"
      ]
     },
     "execution_count": 35,
     "metadata": {},
     "output_type": "execute_result"
    }
   ],
   "source": [
    "import numpy as np\n",
    "import matplotlib.pyplot as plt\n",
    "import ipywidgets as widgets\n",
    "\n",
    "def plot_coupled_oscillators(K1,K2,C):\n",
    "    # define potential energy function\n",
    "    def coupled_potentials(Q1, Q2, K1 = 1.0, K2 = 0.2, C = 0.5):\n",
    "        return 0.5*K1*Q1**2 + 0.5*K2*Q2**2 + C*Q1*Q2**2/3\n",
    "    \n",
    "    # define mesh for plotting\n",
    "    Q1 = np.linspace(-1.5, 1.5, 100)\n",
    "    Q2 = np.linspace(-1.5, 1.5, 100)\n",
    "    Q1_grid, Q2_grid = np.meshgrid(Q1,Q2)\n",
    "    \n",
    "    # define potential energy values\n",
    "    U_grid = coupled_potentials(Q1_grid,Q2_grid,K1,K2,C)\n",
    "    \n",
    "    # construct contour plot\n",
    "    plt.figure(figsize = (5,4))\n",
    "    plt.contourf(Q1_grid,Q2_grid,U_grid, levels=50, cmap='viridis')\n",
    "    # plt.contour(Q1_grid, Q2_grid, U_grid, levels=50, colors='white', linewidths=1)\n",
    "    plt.title(\"Potential Energy of a 2D Harmonic Oscillator\")\n",
    "    plt.colorbar(label = \"Potential energy $U(Q)$\")\n",
    "    plt.xlabel(\"Displacement $Q_1$\")\n",
    "    plt.ylabel(\"Displacement $Q_2$\")\n",
    "    plt.xlim([-1.5,1.5])\n",
    "    plt.ylim([-1.5,1.5])\n",
    "    plt.show()\n",
    "\n",
    "widgets.interact(plot_coupled_oscillators,\n",
    "                 K1  = widgets.FloatSlider(value = 1.0, min = -20.0, max = 20.0, step = 0.1, description = \"$K_1$\"),\n",
    "                 K2  = widgets.FloatSlider(value = 0.2, min = -20.0, max = 20.0, step = 0.1, description = \"$K_2$\"),\n",
    "                 C   = widgets.FloatSlider(value = 0.5, min = -5.0, max = 5.0, step = 0.1, description = \"$C$\")\n",
    "                )"
   ]
  },
  {
   "cell_type": "markdown",
   "id": "bc69518c-ccde-4d70-b35b-f9e751765a3c",
   "metadata": {},
   "source": [
    "**Observations from interactive graph:**\n",
    "* Adjusting $K_1$ changes the amplitude of $Q_1$, and how steep the slope of the well is. Negative $K_1$ flips the parabola upside down. As expected, it does not have an effect on $Q_2$\n",
    "* Adjusting $K_2$ has the same effect on $Q_2$ and $Q_1$ that $K_1$ does on $Q_1$ and $Q_2$ respectively\n",
    "* For increasing $C$, the $Q_2$ contour becomes flattened out where $Q_1 = 0$. When $Q_1$ is offset to the negative, the $Q_2$ contour becomes a negative parabola, and when $Q_1$ is offset to the positive, the $Q_2$ potential is a regular parabola\n",
    "* For decreasing $C$, the same effect occurs but in reverse (i.e. moving $Q_1$ to the negative direction causes the $Q_2$ potential to form a positive parabola)\n",
    "* Adjusting $C$ yields a similar effect on $Q_1$ — for positive $C$ and $Q_2$ shifted from the origin, the $Q_1$ potential forms a cubic curve with a saddle point at $Q_1 = 0$. For negative $C$, the cubic curve is negative. The curve is the same regardless of which direction $Q_2$ is shifted in"
   ]
  },
  {
   "cell_type": "markdown",
   "id": "a01a1a5d-4c02-4f1d-b9a1-271bd801bdb6",
   "metadata": {},
   "source": [
    "[FIGURE OUT THE PHYSICAL EXPLANATION FOR THIS BEHAVIOR FROM THE MODEL]"
   ]
  },
  {
   "cell_type": "markdown",
   "id": "348a6929-df9b-4144-abbe-1c15af423558",
   "metadata": {},
   "source": [
    "## Equations of Motion:\n",
    "\n",
    "$\\vec{F} = m\\vec{\\ddot Q} = \\nabla U(\\vec{Q})$\n",
    "\n",
    "$m\\vec{\\ddot Q} = -\\hat{q_1}(K_1Q_1 + \\frac13CQ_2^2) - \\hat{q_2}(K_2Q_2 + \\frac23CQ_1Q_2)$\n",
    "\n",
    "$\\ddot Q_1 = -\\frac{K_1}{M_1}Q_1 - \\frac13\\frac{C}{M_1}Q_2^2, \\ddot Q_2 = -\\frac{K_2}{M_2} - \\frac23\\frac{C}{M_2}Q_1Q_2$"
   ]
  },
  {
   "cell_type": "code",
   "execution_count": 44,
   "id": "8bd8a69e-6b9d-45a1-a8fb-eea0355061ed",
   "metadata": {},
   "outputs": [
    {
     "ename": "KeyboardInterrupt",
     "evalue": "",
     "output_type": "error",
     "traceback": [
      "\u001b[1;31m---------------------------------------------------------------------------\u001b[0m",
      "\u001b[1;31mKeyboardInterrupt\u001b[0m                         Traceback (most recent call last)",
      "Cell \u001b[1;32mIn[44], line 11\u001b[0m\n\u001b[0;32m      8\u001b[0m diff_eq \u001b[38;5;241m=\u001b[39m sp\u001b[38;5;241m.\u001b[39mEq(Q1\u001b[38;5;241m.\u001b[39mdiff(t)\u001b[38;5;241m.\u001b[39mdiff(t), \u001b[38;5;241m-\u001b[39mK1\u001b[38;5;241m/\u001b[39mM1\u001b[38;5;241m*\u001b[39mQ1 \u001b[38;5;241m-\u001b[39m \u001b[38;5;241m1\u001b[39m\u001b[38;5;241m/\u001b[39m\u001b[38;5;241m3\u001b[39m\u001b[38;5;241m*\u001b[39mC\u001b[38;5;241m/\u001b[39mM1\u001b[38;5;241m*\u001b[39mQ2\u001b[38;5;241m*\u001b[39m\u001b[38;5;241m*\u001b[39m\u001b[38;5;241m2\u001b[39m)\n\u001b[0;32m     10\u001b[0m \u001b[38;5;66;03m# Solve the differential equation\u001b[39;00m\n\u001b[1;32m---> 11\u001b[0m general_solution \u001b[38;5;241m=\u001b[39m \u001b[43msp\u001b[49m\u001b[38;5;241;43m.\u001b[39;49m\u001b[43mdsolve\u001b[49m\u001b[43m(\u001b[49m\u001b[43mdiff_eq\u001b[49m\u001b[43m,\u001b[49m\u001b[43m \u001b[49m\u001b[43mQ1\u001b[49m\u001b[43m)\u001b[49m\n\u001b[0;32m     13\u001b[0m \u001b[38;5;66;03m# Extract the solution for y(x)\u001b[39;00m\n\u001b[0;32m     14\u001b[0m solution_Q1 \u001b[38;5;241m=\u001b[39m general_solution\u001b[38;5;241m.\u001b[39mrhs\n",
      "File \u001b[1;32m~\\miniforge3\\envs\\phys3510\\lib\\site-packages\\sympy\\solvers\\ode\\ode.py:640\u001b[0m, in \u001b[0;36mdsolve\u001b[1;34m(eq, func, hint, simplify, ics, xi, eta, x0, n, **kwargs)\u001b[0m\n\u001b[0;32m    637\u001b[0m \u001b[38;5;28;01melse\u001b[39;00m:\n\u001b[0;32m    638\u001b[0m     \u001b[38;5;66;03m# The key 'hint' stores the hint needed to be solved for.\u001b[39;00m\n\u001b[0;32m    639\u001b[0m     hint \u001b[38;5;241m=\u001b[39m hints[\u001b[38;5;124m'\u001b[39m\u001b[38;5;124mhint\u001b[39m\u001b[38;5;124m'\u001b[39m]\n\u001b[1;32m--> 640\u001b[0m     \u001b[38;5;28;01mreturn\u001b[39;00m \u001b[43m_helper_simplify\u001b[49m\u001b[43m(\u001b[49m\u001b[43meq\u001b[49m\u001b[43m,\u001b[49m\u001b[43m \u001b[49m\u001b[43mhint\u001b[49m\u001b[43m,\u001b[49m\u001b[43m \u001b[49m\u001b[43mhints\u001b[49m\u001b[43m,\u001b[49m\u001b[43m \u001b[49m\u001b[43msimplify\u001b[49m\u001b[43m,\u001b[49m\u001b[43m \u001b[49m\u001b[43mics\u001b[49m\u001b[38;5;241;43m=\u001b[39;49m\u001b[43mics\u001b[49m\u001b[43m)\u001b[49m\n",
      "File \u001b[1;32m~\\miniforge3\\envs\\phys3510\\lib\\site-packages\\sympy\\solvers\\ode\\ode.py:670\u001b[0m, in \u001b[0;36m_helper_simplify\u001b[1;34m(eq, hint, match, simplify, ics, **kwargs)\u001b[0m\n\u001b[0;32m    665\u001b[0m \u001b[38;5;28;01mif\u001b[39;00m simplify:\n\u001b[0;32m    666\u001b[0m     \u001b[38;5;66;03m# odesimp() will attempt to integrate, if necessary, apply constantsimp(),\u001b[39;00m\n\u001b[0;32m    667\u001b[0m     \u001b[38;5;66;03m# attempt to solve for func, and apply any other hint specific\u001b[39;00m\n\u001b[0;32m    668\u001b[0m     \u001b[38;5;66;03m# simplifications\u001b[39;00m\n\u001b[0;32m    669\u001b[0m     \u001b[38;5;28;01mif\u001b[39;00m \u001b[38;5;28misinstance\u001b[39m(solvefunc, SingleODESolver):\n\u001b[1;32m--> 670\u001b[0m         sols \u001b[38;5;241m=\u001b[39m \u001b[43msolvefunc\u001b[49m\u001b[38;5;241;43m.\u001b[39;49m\u001b[43mget_general_solution\u001b[49m\u001b[43m(\u001b[49m\u001b[43m)\u001b[49m\n\u001b[0;32m    671\u001b[0m     \u001b[38;5;28;01melse\u001b[39;00m:\n\u001b[0;32m    672\u001b[0m         sols \u001b[38;5;241m=\u001b[39m solvefunc(eq, func, order, match)\n",
      "File \u001b[1;32m~\\miniforge3\\envs\\phys3510\\lib\\site-packages\\sympy\\solvers\\ode\\single.py:283\u001b[0m, in \u001b[0;36mSingleODESolver.get_general_solution\u001b[1;34m(self, simplify)\u001b[0m\n\u001b[0;32m    281\u001b[0m     msg \u001b[38;5;241m=\u001b[39m \u001b[38;5;124m\"\u001b[39m\u001b[38;5;132;01m%s\u001b[39;00m\u001b[38;5;124m solver cannot solve:\u001b[39m\u001b[38;5;130;01m\\n\u001b[39;00m\u001b[38;5;132;01m%s\u001b[39;00m\u001b[38;5;124m\"\u001b[39m\n\u001b[0;32m    282\u001b[0m     \u001b[38;5;28;01mraise\u001b[39;00m ODEMatchError(msg \u001b[38;5;241m%\u001b[39m (\u001b[38;5;28mself\u001b[39m\u001b[38;5;241m.\u001b[39mhint, \u001b[38;5;28mself\u001b[39m\u001b[38;5;241m.\u001b[39mode_problem\u001b[38;5;241m.\u001b[39meq))\n\u001b[1;32m--> 283\u001b[0m \u001b[38;5;28;01mreturn\u001b[39;00m \u001b[38;5;28;43mself\u001b[39;49m\u001b[38;5;241;43m.\u001b[39;49m\u001b[43m_get_general_solution\u001b[49m\u001b[43m(\u001b[49m\u001b[43msimplify_flag\u001b[49m\u001b[38;5;241;43m=\u001b[39;49m\u001b[43msimplify\u001b[49m\u001b[43m)\u001b[49m\n",
      "File \u001b[1;32m~\\miniforge3\\envs\\phys3510\\lib\\site-packages\\sympy\\solvers\\ode\\single.py:897\u001b[0m, in \u001b[0;36mFactorable._get_general_solution\u001b[1;34m(self, simplify_flag)\u001b[0m\n\u001b[0;32m    895\u001b[0m \u001b[38;5;28;01mfor\u001b[39;00m eq \u001b[38;5;129;01min\u001b[39;00m eqns:\n\u001b[0;32m    896\u001b[0m     \u001b[38;5;28;01mtry\u001b[39;00m:\n\u001b[1;32m--> 897\u001b[0m         sol \u001b[38;5;241m=\u001b[39m \u001b[43mdsolve\u001b[49m\u001b[43m(\u001b[49m\u001b[43meq\u001b[49m\u001b[43m,\u001b[49m\u001b[43m \u001b[49m\u001b[43mfunc\u001b[49m\u001b[43m(\u001b[49m\u001b[43mx\u001b[49m\u001b[43m)\u001b[49m\u001b[43m)\u001b[49m\n\u001b[0;32m    898\u001b[0m     \u001b[38;5;28;01mexcept\u001b[39;00m \u001b[38;5;167;01mNotImplementedError\u001b[39;00m:\n\u001b[0;32m    899\u001b[0m         \u001b[38;5;28;01mcontinue\u001b[39;00m\n",
      "File \u001b[1;32m~\\miniforge3\\envs\\phys3510\\lib\\site-packages\\sympy\\solvers\\ode\\ode.py:640\u001b[0m, in \u001b[0;36mdsolve\u001b[1;34m(eq, func, hint, simplify, ics, xi, eta, x0, n, **kwargs)\u001b[0m\n\u001b[0;32m    637\u001b[0m \u001b[38;5;28;01melse\u001b[39;00m:\n\u001b[0;32m    638\u001b[0m     \u001b[38;5;66;03m# The key 'hint' stores the hint needed to be solved for.\u001b[39;00m\n\u001b[0;32m    639\u001b[0m     hint \u001b[38;5;241m=\u001b[39m hints[\u001b[38;5;124m'\u001b[39m\u001b[38;5;124mhint\u001b[39m\u001b[38;5;124m'\u001b[39m]\n\u001b[1;32m--> 640\u001b[0m     \u001b[38;5;28;01mreturn\u001b[39;00m \u001b[43m_helper_simplify\u001b[49m\u001b[43m(\u001b[49m\u001b[43meq\u001b[49m\u001b[43m,\u001b[49m\u001b[43m \u001b[49m\u001b[43mhint\u001b[49m\u001b[43m,\u001b[49m\u001b[43m \u001b[49m\u001b[43mhints\u001b[49m\u001b[43m,\u001b[49m\u001b[43m \u001b[49m\u001b[43msimplify\u001b[49m\u001b[43m,\u001b[49m\u001b[43m \u001b[49m\u001b[43mics\u001b[49m\u001b[38;5;241;43m=\u001b[39;49m\u001b[43mics\u001b[49m\u001b[43m)\u001b[49m\n",
      "File \u001b[1;32m~\\miniforge3\\envs\\phys3510\\lib\\site-packages\\sympy\\solvers\\ode\\ode.py:670\u001b[0m, in \u001b[0;36m_helper_simplify\u001b[1;34m(eq, hint, match, simplify, ics, **kwargs)\u001b[0m\n\u001b[0;32m    665\u001b[0m \u001b[38;5;28;01mif\u001b[39;00m simplify:\n\u001b[0;32m    666\u001b[0m     \u001b[38;5;66;03m# odesimp() will attempt to integrate, if necessary, apply constantsimp(),\u001b[39;00m\n\u001b[0;32m    667\u001b[0m     \u001b[38;5;66;03m# attempt to solve for func, and apply any other hint specific\u001b[39;00m\n\u001b[0;32m    668\u001b[0m     \u001b[38;5;66;03m# simplifications\u001b[39;00m\n\u001b[0;32m    669\u001b[0m     \u001b[38;5;28;01mif\u001b[39;00m \u001b[38;5;28misinstance\u001b[39m(solvefunc, SingleODESolver):\n\u001b[1;32m--> 670\u001b[0m         sols \u001b[38;5;241m=\u001b[39m \u001b[43msolvefunc\u001b[49m\u001b[38;5;241;43m.\u001b[39;49m\u001b[43mget_general_solution\u001b[49m\u001b[43m(\u001b[49m\u001b[43m)\u001b[49m\n\u001b[0;32m    671\u001b[0m     \u001b[38;5;28;01melse\u001b[39;00m:\n\u001b[0;32m    672\u001b[0m         sols \u001b[38;5;241m=\u001b[39m solvefunc(eq, func, order, match)\n",
      "File \u001b[1;32m~\\miniforge3\\envs\\phys3510\\lib\\site-packages\\sympy\\solvers\\ode\\single.py:283\u001b[0m, in \u001b[0;36mSingleODESolver.get_general_solution\u001b[1;34m(self, simplify)\u001b[0m\n\u001b[0;32m    281\u001b[0m     msg \u001b[38;5;241m=\u001b[39m \u001b[38;5;124m\"\u001b[39m\u001b[38;5;132;01m%s\u001b[39;00m\u001b[38;5;124m solver cannot solve:\u001b[39m\u001b[38;5;130;01m\\n\u001b[39;00m\u001b[38;5;132;01m%s\u001b[39;00m\u001b[38;5;124m\"\u001b[39m\n\u001b[0;32m    282\u001b[0m     \u001b[38;5;28;01mraise\u001b[39;00m ODEMatchError(msg \u001b[38;5;241m%\u001b[39m (\u001b[38;5;28mself\u001b[39m\u001b[38;5;241m.\u001b[39mhint, \u001b[38;5;28mself\u001b[39m\u001b[38;5;241m.\u001b[39mode_problem\u001b[38;5;241m.\u001b[39meq))\n\u001b[1;32m--> 283\u001b[0m \u001b[38;5;28;01mreturn\u001b[39;00m \u001b[38;5;28;43mself\u001b[39;49m\u001b[38;5;241;43m.\u001b[39;49m\u001b[43m_get_general_solution\u001b[49m\u001b[43m(\u001b[49m\u001b[43msimplify_flag\u001b[49m\u001b[38;5;241;43m=\u001b[39;49m\u001b[43msimplify\u001b[49m\u001b[43m)\u001b[49m\n",
      "File \u001b[1;32m~\\miniforge3\\envs\\phys3510\\lib\\site-packages\\sympy\\solvers\\ode\\single.py:897\u001b[0m, in \u001b[0;36mFactorable._get_general_solution\u001b[1;34m(self, simplify_flag)\u001b[0m\n\u001b[0;32m    895\u001b[0m \u001b[38;5;28;01mfor\u001b[39;00m eq \u001b[38;5;129;01min\u001b[39;00m eqns:\n\u001b[0;32m    896\u001b[0m     \u001b[38;5;28;01mtry\u001b[39;00m:\n\u001b[1;32m--> 897\u001b[0m         sol \u001b[38;5;241m=\u001b[39m \u001b[43mdsolve\u001b[49m\u001b[43m(\u001b[49m\u001b[43meq\u001b[49m\u001b[43m,\u001b[49m\u001b[43m \u001b[49m\u001b[43mfunc\u001b[49m\u001b[43m(\u001b[49m\u001b[43mx\u001b[49m\u001b[43m)\u001b[49m\u001b[43m)\u001b[49m\n\u001b[0;32m    898\u001b[0m     \u001b[38;5;28;01mexcept\u001b[39;00m \u001b[38;5;167;01mNotImplementedError\u001b[39;00m:\n\u001b[0;32m    899\u001b[0m         \u001b[38;5;28;01mcontinue\u001b[39;00m\n",
      "    \u001b[1;31m[... skipping similar frames: Factorable._get_general_solution at line 897 (443 times), _helper_simplify at line 670 (443 times), dsolve at line 640 (443 times), SingleODESolver.get_general_solution at line 283 (443 times)]\u001b[0m\n",
      "File \u001b[1;32m~\\miniforge3\\envs\\phys3510\\lib\\site-packages\\sympy\\solvers\\ode\\ode.py:640\u001b[0m, in \u001b[0;36mdsolve\u001b[1;34m(eq, func, hint, simplify, ics, xi, eta, x0, n, **kwargs)\u001b[0m\n\u001b[0;32m    637\u001b[0m \u001b[38;5;28;01melse\u001b[39;00m:\n\u001b[0;32m    638\u001b[0m     \u001b[38;5;66;03m# The key 'hint' stores the hint needed to be solved for.\u001b[39;00m\n\u001b[0;32m    639\u001b[0m     hint \u001b[38;5;241m=\u001b[39m hints[\u001b[38;5;124m'\u001b[39m\u001b[38;5;124mhint\u001b[39m\u001b[38;5;124m'\u001b[39m]\n\u001b[1;32m--> 640\u001b[0m     \u001b[38;5;28;01mreturn\u001b[39;00m \u001b[43m_helper_simplify\u001b[49m\u001b[43m(\u001b[49m\u001b[43meq\u001b[49m\u001b[43m,\u001b[49m\u001b[43m \u001b[49m\u001b[43mhint\u001b[49m\u001b[43m,\u001b[49m\u001b[43m \u001b[49m\u001b[43mhints\u001b[49m\u001b[43m,\u001b[49m\u001b[43m \u001b[49m\u001b[43msimplify\u001b[49m\u001b[43m,\u001b[49m\u001b[43m \u001b[49m\u001b[43mics\u001b[49m\u001b[38;5;241;43m=\u001b[39;49m\u001b[43mics\u001b[49m\u001b[43m)\u001b[49m\n",
      "File \u001b[1;32m~\\miniforge3\\envs\\phys3510\\lib\\site-packages\\sympy\\solvers\\ode\\ode.py:670\u001b[0m, in \u001b[0;36m_helper_simplify\u001b[1;34m(eq, hint, match, simplify, ics, **kwargs)\u001b[0m\n\u001b[0;32m    665\u001b[0m \u001b[38;5;28;01mif\u001b[39;00m simplify:\n\u001b[0;32m    666\u001b[0m     \u001b[38;5;66;03m# odesimp() will attempt to integrate, if necessary, apply constantsimp(),\u001b[39;00m\n\u001b[0;32m    667\u001b[0m     \u001b[38;5;66;03m# attempt to solve for func, and apply any other hint specific\u001b[39;00m\n\u001b[0;32m    668\u001b[0m     \u001b[38;5;66;03m# simplifications\u001b[39;00m\n\u001b[0;32m    669\u001b[0m     \u001b[38;5;28;01mif\u001b[39;00m \u001b[38;5;28misinstance\u001b[39m(solvefunc, SingleODESolver):\n\u001b[1;32m--> 670\u001b[0m         sols \u001b[38;5;241m=\u001b[39m \u001b[43msolvefunc\u001b[49m\u001b[38;5;241;43m.\u001b[39;49m\u001b[43mget_general_solution\u001b[49m\u001b[43m(\u001b[49m\u001b[43m)\u001b[49m\n\u001b[0;32m    671\u001b[0m     \u001b[38;5;28;01melse\u001b[39;00m:\n\u001b[0;32m    672\u001b[0m         sols \u001b[38;5;241m=\u001b[39m solvefunc(eq, func, order, match)\n",
      "File \u001b[1;32m~\\miniforge3\\envs\\phys3510\\lib\\site-packages\\sympy\\solvers\\ode\\single.py:283\u001b[0m, in \u001b[0;36mSingleODESolver.get_general_solution\u001b[1;34m(self, simplify)\u001b[0m\n\u001b[0;32m    281\u001b[0m     msg \u001b[38;5;241m=\u001b[39m \u001b[38;5;124m\"\u001b[39m\u001b[38;5;132;01m%s\u001b[39;00m\u001b[38;5;124m solver cannot solve:\u001b[39m\u001b[38;5;130;01m\\n\u001b[39;00m\u001b[38;5;132;01m%s\u001b[39;00m\u001b[38;5;124m\"\u001b[39m\n\u001b[0;32m    282\u001b[0m     \u001b[38;5;28;01mraise\u001b[39;00m ODEMatchError(msg \u001b[38;5;241m%\u001b[39m (\u001b[38;5;28mself\u001b[39m\u001b[38;5;241m.\u001b[39mhint, \u001b[38;5;28mself\u001b[39m\u001b[38;5;241m.\u001b[39mode_problem\u001b[38;5;241m.\u001b[39meq))\n\u001b[1;32m--> 283\u001b[0m \u001b[38;5;28;01mreturn\u001b[39;00m \u001b[38;5;28;43mself\u001b[39;49m\u001b[38;5;241;43m.\u001b[39;49m\u001b[43m_get_general_solution\u001b[49m\u001b[43m(\u001b[49m\u001b[43msimplify_flag\u001b[49m\u001b[38;5;241;43m=\u001b[39;49m\u001b[43msimplify\u001b[49m\u001b[43m)\u001b[49m\n",
      "File \u001b[1;32m~\\miniforge3\\envs\\phys3510\\lib\\site-packages\\sympy\\solvers\\ode\\single.py:897\u001b[0m, in \u001b[0;36mFactorable._get_general_solution\u001b[1;34m(self, simplify_flag)\u001b[0m\n\u001b[0;32m    895\u001b[0m \u001b[38;5;28;01mfor\u001b[39;00m eq \u001b[38;5;129;01min\u001b[39;00m eqns:\n\u001b[0;32m    896\u001b[0m     \u001b[38;5;28;01mtry\u001b[39;00m:\n\u001b[1;32m--> 897\u001b[0m         sol \u001b[38;5;241m=\u001b[39m \u001b[43mdsolve\u001b[49m\u001b[43m(\u001b[49m\u001b[43meq\u001b[49m\u001b[43m,\u001b[49m\u001b[43m \u001b[49m\u001b[43mfunc\u001b[49m\u001b[43m(\u001b[49m\u001b[43mx\u001b[49m\u001b[43m)\u001b[49m\u001b[43m)\u001b[49m\n\u001b[0;32m    898\u001b[0m     \u001b[38;5;28;01mexcept\u001b[39;00m \u001b[38;5;167;01mNotImplementedError\u001b[39;00m:\n\u001b[0;32m    899\u001b[0m         \u001b[38;5;28;01mcontinue\u001b[39;00m\n",
      "File \u001b[1;32m~\\miniforge3\\envs\\phys3510\\lib\\site-packages\\sympy\\solvers\\ode\\ode.py:605\u001b[0m, in \u001b[0;36mdsolve\u001b[1;34m(eq, func, hint, simplify, ics, xi, eta, x0, n, **kwargs)\u001b[0m\n\u001b[0;32m    602\u001b[0m given_hint \u001b[38;5;241m=\u001b[39m hint  \u001b[38;5;66;03m# hint given by the user\u001b[39;00m\n\u001b[0;32m    604\u001b[0m \u001b[38;5;66;03m# See the docstring of _desolve for more details.\u001b[39;00m\n\u001b[1;32m--> 605\u001b[0m hints \u001b[38;5;241m=\u001b[39m _desolve(eq, func\u001b[38;5;241m=\u001b[39mfunc,\n\u001b[0;32m    606\u001b[0m     hint\u001b[38;5;241m=\u001b[39mhint, simplify\u001b[38;5;241m=\u001b[39m\u001b[38;5;28;01mTrue\u001b[39;00m, xi\u001b[38;5;241m=\u001b[39mxi, eta\u001b[38;5;241m=\u001b[39meta, \u001b[38;5;28mtype\u001b[39m\u001b[38;5;241m=\u001b[39m\u001b[38;5;124m'\u001b[39m\u001b[38;5;124mode\u001b[39m\u001b[38;5;124m'\u001b[39m, ics\u001b[38;5;241m=\u001b[39mics,\n\u001b[0;32m    607\u001b[0m     x0\u001b[38;5;241m=\u001b[39mx0, n\u001b[38;5;241m=\u001b[39mn, \u001b[38;5;241m*\u001b[39m\u001b[38;5;241m*\u001b[39mkwargs)\n\u001b[0;32m    608\u001b[0m eq \u001b[38;5;241m=\u001b[39m hints\u001b[38;5;241m.\u001b[39mpop(\u001b[38;5;124m'\u001b[39m\u001b[38;5;124meq\u001b[39m\u001b[38;5;124m'\u001b[39m, eq)\n\u001b[0;32m    609\u001b[0m all_ \u001b[38;5;241m=\u001b[39m hints\u001b[38;5;241m.\u001b[39mpop(\u001b[38;5;124m'\u001b[39m\u001b[38;5;124mall\u001b[39m\u001b[38;5;124m'\u001b[39m, \u001b[38;5;28;01mFalse\u001b[39;00m)\n",
      "File \u001b[1;32m~\\miniforge3\\envs\\phys3510\\lib\\site-packages\\sympy\\solvers\\deutils.py:209\u001b[0m, in \u001b[0;36m_desolve\u001b[1;34m(eq, func, hint, ics, simplify, prep, **kwargs)\u001b[0m\n\u001b[0;32m    205\u001b[0m \u001b[38;5;66;03m# Magic that should only be used internally.  Prevents classify_ode from\u001b[39;00m\n\u001b[0;32m    206\u001b[0m \u001b[38;5;66;03m# being called more than it needs to be by passing its results through\u001b[39;00m\n\u001b[0;32m    207\u001b[0m \u001b[38;5;66;03m# recursive calls.\u001b[39;00m\n\u001b[0;32m    208\u001b[0m \u001b[38;5;28;01mif\u001b[39;00m kwargs\u001b[38;5;241m.\u001b[39mget(\u001b[38;5;124m'\u001b[39m\u001b[38;5;124mclassify\u001b[39m\u001b[38;5;124m'\u001b[39m, \u001b[38;5;28;01mTrue\u001b[39;00m):\n\u001b[1;32m--> 209\u001b[0m     hints \u001b[38;5;241m=\u001b[39m \u001b[43mclassifier\u001b[49m\u001b[43m(\u001b[49m\u001b[43meq\u001b[49m\u001b[43m,\u001b[49m\u001b[43m \u001b[49m\u001b[43mfunc\u001b[49m\u001b[43m,\u001b[49m\u001b[43m \u001b[49m\u001b[38;5;28;43mdict\u001b[39;49m\u001b[38;5;241;43m=\u001b[39;49m\u001b[38;5;28;43;01mTrue\u001b[39;49;00m\u001b[43m,\u001b[49m\u001b[43m \u001b[49m\u001b[43mics\u001b[49m\u001b[38;5;241;43m=\u001b[39;49m\u001b[43mics\u001b[49m\u001b[43m,\u001b[49m\u001b[43m \u001b[49m\u001b[43mxi\u001b[49m\u001b[38;5;241;43m=\u001b[39;49m\u001b[43mxi\u001b[49m\u001b[43m,\u001b[49m\u001b[43m \u001b[49m\u001b[43meta\u001b[49m\u001b[38;5;241;43m=\u001b[39;49m\u001b[43meta\u001b[49m\u001b[43m,\u001b[49m\n\u001b[0;32m    210\u001b[0m \u001b[43m    \u001b[49m\u001b[43mn\u001b[49m\u001b[38;5;241;43m=\u001b[39;49m\u001b[43mterms\u001b[49m\u001b[43m,\u001b[49m\u001b[43m \u001b[49m\u001b[43mx0\u001b[49m\u001b[38;5;241;43m=\u001b[39;49m\u001b[43mx0\u001b[49m\u001b[43m,\u001b[49m\u001b[43m \u001b[49m\u001b[43mhint\u001b[49m\u001b[38;5;241;43m=\u001b[39;49m\u001b[43mhint\u001b[49m\u001b[43m,\u001b[49m\u001b[43m \u001b[49m\u001b[43mprep\u001b[49m\u001b[38;5;241;43m=\u001b[39;49m\u001b[43mprep\u001b[49m\u001b[43m)\u001b[49m\n\u001b[0;32m    212\u001b[0m \u001b[38;5;28;01melse\u001b[39;00m:\n\u001b[0;32m    213\u001b[0m     \u001b[38;5;66;03m# Here is what all this means:\u001b[39;00m\n\u001b[0;32m    214\u001b[0m     \u001b[38;5;66;03m#\u001b[39;00m\n\u001b[1;32m   (...)\u001b[0m\n\u001b[0;32m    223\u001b[0m     \u001b[38;5;66;03m#          hint.\u001b[39;00m\n\u001b[0;32m    224\u001b[0m     \u001b[38;5;66;03m# order:   The order of the DE, as determined by ode_order().\u001b[39;00m\n\u001b[0;32m    225\u001b[0m     hints \u001b[38;5;241m=\u001b[39m kwargs\u001b[38;5;241m.\u001b[39mget(\u001b[38;5;124m'\u001b[39m\u001b[38;5;124mhint\u001b[39m\u001b[38;5;124m'\u001b[39m,\n\u001b[0;32m    226\u001b[0m                        {\u001b[38;5;124m'\u001b[39m\u001b[38;5;124mdefault\u001b[39m\u001b[38;5;124m'\u001b[39m: hint,\n\u001b[0;32m    227\u001b[0m                         hint: kwargs[\u001b[38;5;124m'\u001b[39m\u001b[38;5;124mmatch\u001b[39m\u001b[38;5;124m'\u001b[39m],\n\u001b[0;32m    228\u001b[0m                         \u001b[38;5;124m'\u001b[39m\u001b[38;5;124morder\u001b[39m\u001b[38;5;124m'\u001b[39m: kwargs[\u001b[38;5;124m'\u001b[39m\u001b[38;5;124morder\u001b[39m\u001b[38;5;124m'\u001b[39m]})\n",
      "File \u001b[1;32m~\\miniforge3\\envs\\phys3510\\lib\\site-packages\\sympy\\solvers\\ode\\ode.py:1042\u001b[0m, in \u001b[0;36mclassify_ode\u001b[1;34m(eq, func, dict, ics, prep, xi, eta, n, **kwargs)\u001b[0m\n\u001b[0;32m   1040\u001b[0m \u001b[38;5;28;01mfor\u001b[39;00m hint \u001b[38;5;129;01min\u001b[39;00m user_map:\n\u001b[0;32m   1041\u001b[0m     solver \u001b[38;5;241m=\u001b[39m user_map[hint](ode)\n\u001b[1;32m-> 1042\u001b[0m     \u001b[38;5;28;01mif\u001b[39;00m \u001b[43msolver\u001b[49m\u001b[38;5;241;43m.\u001b[39;49m\u001b[43mmatches\u001b[49m\u001b[43m(\u001b[49m\u001b[43m)\u001b[49m:\n\u001b[0;32m   1043\u001b[0m         matching_hints[hint] \u001b[38;5;241m=\u001b[39m solver\n\u001b[0;32m   1044\u001b[0m         \u001b[38;5;28;01mif\u001b[39;00m user_map[hint]\u001b[38;5;241m.\u001b[39mhas_integral:\n",
      "File \u001b[1;32m~\\miniforge3\\envs\\phys3510\\lib\\site-packages\\sympy\\solvers\\ode\\single.py:276\u001b[0m, in \u001b[0;36mSingleODESolver.matches\u001b[1;34m(self)\u001b[0m\n\u001b[0;32m    273\u001b[0m     \u001b[38;5;28;01mreturn\u001b[39;00m \u001b[38;5;28mself\u001b[39m\u001b[38;5;241m.\u001b[39m_matched\n\u001b[0;32m    275\u001b[0m \u001b[38;5;28;01mif\u001b[39;00m \u001b[38;5;28mself\u001b[39m\u001b[38;5;241m.\u001b[39m_matched \u001b[38;5;129;01mis\u001b[39;00m \u001b[38;5;28;01mNone\u001b[39;00m:\n\u001b[1;32m--> 276\u001b[0m     \u001b[38;5;28mself\u001b[39m\u001b[38;5;241m.\u001b[39m_matched \u001b[38;5;241m=\u001b[39m \u001b[38;5;28;43mself\u001b[39;49m\u001b[38;5;241;43m.\u001b[39;49m\u001b[43m_matches\u001b[49m\u001b[43m(\u001b[49m\u001b[43m)\u001b[49m\n\u001b[0;32m    277\u001b[0m \u001b[38;5;28;01mreturn\u001b[39;00m \u001b[38;5;28mself\u001b[39m\u001b[38;5;241m.\u001b[39m_matched\n",
      "File \u001b[1;32m~\\miniforge3\\envs\\phys3510\\lib\\site-packages\\sympy\\solvers\\ode\\single.py:871\u001b[0m, in \u001b[0;36mFactorable._matches\u001b[1;34m(self)\u001b[0m\n\u001b[0;32m    869\u001b[0m eq \u001b[38;5;241m=\u001b[39m eq_orig\u001b[38;5;241m.\u001b[39mcollect(f(x), func \u001b[38;5;241m=\u001b[39m cancel)\n\u001b[0;32m    870\u001b[0m eq \u001b[38;5;241m=\u001b[39m fraction(factor(eq))[\u001b[38;5;241m0\u001b[39m]\n\u001b[1;32m--> 871\u001b[0m factors \u001b[38;5;241m=\u001b[39m Mul\u001b[38;5;241m.\u001b[39mmake_args(\u001b[43mfactor\u001b[49m\u001b[43m(\u001b[49m\u001b[43meq\u001b[49m\u001b[43m)\u001b[49m)\n\u001b[0;32m    872\u001b[0m roots \u001b[38;5;241m=\u001b[39m [fac\u001b[38;5;241m.\u001b[39mas_base_exp() \u001b[38;5;28;01mfor\u001b[39;00m fac \u001b[38;5;129;01min\u001b[39;00m factors \u001b[38;5;28;01mif\u001b[39;00m \u001b[38;5;28mlen\u001b[39m(fac\u001b[38;5;241m.\u001b[39margs)\u001b[38;5;241m!=\u001b[39m\u001b[38;5;241m0\u001b[39m]\n\u001b[0;32m    873\u001b[0m \u001b[38;5;28;01mif\u001b[39;00m \u001b[38;5;28mlen\u001b[39m(roots)\u001b[38;5;241m>\u001b[39m\u001b[38;5;241m1\u001b[39m \u001b[38;5;129;01mor\u001b[39;00m roots[\u001b[38;5;241m0\u001b[39m][\u001b[38;5;241m1\u001b[39m]\u001b[38;5;241m>\u001b[39m\u001b[38;5;241m1\u001b[39m:\n",
      "File \u001b[1;32m~\\miniforge3\\envs\\phys3510\\lib\\site-packages\\sympy\\polys\\polytools.py:6577\u001b[0m, in \u001b[0;36mfactor\u001b[1;34m(f, deep, *gens, **args)\u001b[0m\n\u001b[0;32m   6574\u001b[0m     \u001b[38;5;28;01mreturn\u001b[39;00m f\u001b[38;5;241m.\u001b[39mxreplace(partials)\n\u001b[0;32m   6576\u001b[0m \u001b[38;5;28;01mtry\u001b[39;00m:\n\u001b[1;32m-> 6577\u001b[0m     \u001b[38;5;28;01mreturn\u001b[39;00m \u001b[43m_generic_factor\u001b[49m\u001b[43m(\u001b[49m\u001b[43mf\u001b[49m\u001b[43m,\u001b[49m\u001b[43m \u001b[49m\u001b[43mgens\u001b[49m\u001b[43m,\u001b[49m\u001b[43m \u001b[49m\u001b[43margs\u001b[49m\u001b[43m,\u001b[49m\u001b[43m \u001b[49m\u001b[43mmethod\u001b[49m\u001b[38;5;241;43m=\u001b[39;49m\u001b[38;5;124;43m'\u001b[39;49m\u001b[38;5;124;43mfactor\u001b[39;49m\u001b[38;5;124;43m'\u001b[39;49m\u001b[43m)\u001b[49m\n\u001b[0;32m   6578\u001b[0m \u001b[38;5;28;01mexcept\u001b[39;00m PolynomialError:\n\u001b[0;32m   6579\u001b[0m     \u001b[38;5;28;01mif\u001b[39;00m \u001b[38;5;129;01mnot\u001b[39;00m f\u001b[38;5;241m.\u001b[39mis_commutative:\n",
      "File \u001b[1;32m~\\miniforge3\\envs\\phys3510\\lib\\site-packages\\sympy\\polys\\polytools.py:6258\u001b[0m, in \u001b[0;36m_generic_factor\u001b[1;34m(expr, gens, args, method)\u001b[0m\n\u001b[0;32m   6256\u001b[0m opt \u001b[38;5;241m=\u001b[39m options\u001b[38;5;241m.\u001b[39mbuild_options(gens, args)\n\u001b[0;32m   6257\u001b[0m opt[\u001b[38;5;124m'\u001b[39m\u001b[38;5;124mfraction\u001b[39m\u001b[38;5;124m'\u001b[39m] \u001b[38;5;241m=\u001b[39m fraction\n\u001b[1;32m-> 6258\u001b[0m \u001b[38;5;28;01mreturn\u001b[39;00m \u001b[43m_symbolic_factor\u001b[49m\u001b[43m(\u001b[49m\u001b[43msympify\u001b[49m\u001b[43m(\u001b[49m\u001b[43mexpr\u001b[49m\u001b[43m)\u001b[49m\u001b[43m,\u001b[49m\u001b[43m \u001b[49m\u001b[43mopt\u001b[49m\u001b[43m,\u001b[49m\u001b[43m \u001b[49m\u001b[43mmethod\u001b[49m\u001b[43m)\u001b[49m\n",
      "File \u001b[1;32m~\\miniforge3\\envs\\phys3510\\lib\\site-packages\\sympy\\polys\\polytools.py:6198\u001b[0m, in \u001b[0;36m_symbolic_factor\u001b[1;34m(expr, opt, method)\u001b[0m\n\u001b[0;32m   6196\u001b[0m     \u001b[38;5;28;01mif\u001b[39;00m \u001b[38;5;28mhasattr\u001b[39m(expr,\u001b[38;5;124m'\u001b[39m\u001b[38;5;124m_eval_factor\u001b[39m\u001b[38;5;124m'\u001b[39m):\n\u001b[0;32m   6197\u001b[0m         \u001b[38;5;28;01mreturn\u001b[39;00m expr\u001b[38;5;241m.\u001b[39m_eval_factor()\n\u001b[1;32m-> 6198\u001b[0m     coeff, factors \u001b[38;5;241m=\u001b[39m \u001b[43m_symbolic_factor_list\u001b[49m\u001b[43m(\u001b[49m\u001b[43mtogether\u001b[49m\u001b[43m(\u001b[49m\u001b[43mexpr\u001b[49m\u001b[43m,\u001b[49m\u001b[43m \u001b[49m\u001b[43mfraction\u001b[49m\u001b[38;5;241;43m=\u001b[39;49m\u001b[43mopt\u001b[49m\u001b[43m[\u001b[49m\u001b[38;5;124;43m'\u001b[39;49m\u001b[38;5;124;43mfraction\u001b[39;49m\u001b[38;5;124;43m'\u001b[39;49m\u001b[43m]\u001b[49m\u001b[43m)\u001b[49m\u001b[43m,\u001b[49m\u001b[43m \u001b[49m\u001b[43mopt\u001b[49m\u001b[43m,\u001b[49m\u001b[43m \u001b[49m\u001b[43mmethod\u001b[49m\u001b[43m)\u001b[49m\n\u001b[0;32m   6199\u001b[0m     \u001b[38;5;28;01mreturn\u001b[39;00m _keep_coeff(coeff, _factors_product(factors))\n\u001b[0;32m   6200\u001b[0m \u001b[38;5;28;01melif\u001b[39;00m \u001b[38;5;28mhasattr\u001b[39m(expr, \u001b[38;5;124m'\u001b[39m\u001b[38;5;124margs\u001b[39m\u001b[38;5;124m'\u001b[39m):\n",
      "File \u001b[1;32m~\\miniforge3\\envs\\phys3510\\lib\\site-packages\\sympy\\polys\\polytools.py:6163\u001b[0m, in \u001b[0;36m_symbolic_factor_list\u001b[1;34m(expr, opt, method)\u001b[0m\n\u001b[0;32m   6160\u001b[0m \u001b[38;5;28;01melse\u001b[39;00m:\n\u001b[0;32m   6161\u001b[0m     func \u001b[38;5;241m=\u001b[39m \u001b[38;5;28mgetattr\u001b[39m(poly, method \u001b[38;5;241m+\u001b[39m \u001b[38;5;124m'\u001b[39m\u001b[38;5;124m_list\u001b[39m\u001b[38;5;124m'\u001b[39m)\n\u001b[1;32m-> 6163\u001b[0m     _coeff, _factors \u001b[38;5;241m=\u001b[39m \u001b[43mfunc\u001b[49m\u001b[43m(\u001b[49m\u001b[43m)\u001b[49m\n\u001b[0;32m   6164\u001b[0m     \u001b[38;5;28;01mif\u001b[39;00m _coeff \u001b[38;5;129;01mis\u001b[39;00m \u001b[38;5;129;01mnot\u001b[39;00m S\u001b[38;5;241m.\u001b[39mOne:\n\u001b[0;32m   6165\u001b[0m         \u001b[38;5;28;01mif\u001b[39;00m exp\u001b[38;5;241m.\u001b[39mis_Integer:\n",
      "File \u001b[1;32m~\\miniforge3\\envs\\phys3510\\lib\\site-packages\\sympy\\polys\\polytools.py:3378\u001b[0m, in \u001b[0;36mPoly.factor_list\u001b[1;34m(f)\u001b[0m\n\u001b[0;32m   3376\u001b[0m \u001b[38;5;28;01mif\u001b[39;00m \u001b[38;5;28mhasattr\u001b[39m(f\u001b[38;5;241m.\u001b[39mrep, \u001b[38;5;124m'\u001b[39m\u001b[38;5;124mfactor_list\u001b[39m\u001b[38;5;124m'\u001b[39m):\n\u001b[0;32m   3377\u001b[0m     \u001b[38;5;28;01mtry\u001b[39;00m:\n\u001b[1;32m-> 3378\u001b[0m         coeff, factors \u001b[38;5;241m=\u001b[39m \u001b[43mf\u001b[49m\u001b[38;5;241;43m.\u001b[39;49m\u001b[43mrep\u001b[49m\u001b[38;5;241;43m.\u001b[39;49m\u001b[43mfactor_list\u001b[49m\u001b[43m(\u001b[49m\u001b[43m)\u001b[49m\n\u001b[0;32m   3379\u001b[0m     \u001b[38;5;28;01mexcept\u001b[39;00m DomainError:\n\u001b[0;32m   3380\u001b[0m         \u001b[38;5;28;01mif\u001b[39;00m f\u001b[38;5;241m.\u001b[39mdegree() \u001b[38;5;241m==\u001b[39m \u001b[38;5;241m0\u001b[39m:\n",
      "File \u001b[1;32m~\\miniforge3\\envs\\phys3510\\lib\\site-packages\\sympy\\polys\\polyclasses.py:1637\u001b[0m, in \u001b[0;36mDMP_Python.factor_list\u001b[1;34m(f)\u001b[0m\n\u001b[0;32m   1635\u001b[0m \u001b[38;5;28;01mdef\u001b[39;00m \u001b[38;5;21mfactor_list\u001b[39m(f):\n\u001b[0;32m   1636\u001b[0m \u001b[38;5;250m    \u001b[39m\u001b[38;5;124;03m\"\"\"Returns a list of irreducible factors of ``f``. \"\"\"\u001b[39;00m\n\u001b[1;32m-> 1637\u001b[0m     coeff, factors \u001b[38;5;241m=\u001b[39m \u001b[43mdmp_factor_list\u001b[49m\u001b[43m(\u001b[49m\u001b[43mf\u001b[49m\u001b[38;5;241;43m.\u001b[39;49m\u001b[43m_rep\u001b[49m\u001b[43m,\u001b[49m\u001b[43m \u001b[49m\u001b[43mf\u001b[49m\u001b[38;5;241;43m.\u001b[39;49m\u001b[43mlev\u001b[49m\u001b[43m,\u001b[49m\u001b[43m \u001b[49m\u001b[43mf\u001b[49m\u001b[38;5;241;43m.\u001b[39;49m\u001b[43mdom\u001b[49m\u001b[43m)\u001b[49m\n\u001b[0;32m   1638\u001b[0m     \u001b[38;5;28;01mreturn\u001b[39;00m coeff, [ (f\u001b[38;5;241m.\u001b[39mper(g), k) \u001b[38;5;28;01mfor\u001b[39;00m g, k \u001b[38;5;129;01min\u001b[39;00m factors ]\n",
      "File \u001b[1;32m~\\miniforge3\\envs\\phys3510\\lib\\site-packages\\sympy\\polys\\factortools.py:1568\u001b[0m, in \u001b[0;36mdmp_factor_list\u001b[1;34m(f, u, K0)\u001b[0m\n\u001b[0;32m   1565\u001b[0m     K \u001b[38;5;241m=\u001b[39m K0\n\u001b[0;32m   1567\u001b[0m \u001b[38;5;28;01mif\u001b[39;00m K\u001b[38;5;241m.\u001b[39mis_ZZ:\n\u001b[1;32m-> 1568\u001b[0m     levels, f, v \u001b[38;5;241m=\u001b[39m \u001b[43mdmp_exclude\u001b[49m\u001b[43m(\u001b[49m\u001b[43mf\u001b[49m\u001b[43m,\u001b[49m\u001b[43m \u001b[49m\u001b[43mu\u001b[49m\u001b[43m,\u001b[49m\u001b[43m \u001b[49m\u001b[43mK\u001b[49m\u001b[43m)\u001b[49m\n\u001b[0;32m   1569\u001b[0m     coeff, factors \u001b[38;5;241m=\u001b[39m dmp_zz_factor(f, v, K)\n\u001b[0;32m   1571\u001b[0m     \u001b[38;5;28;01mfor\u001b[39;00m i, (f, k) \u001b[38;5;129;01min\u001b[39;00m \u001b[38;5;28menumerate\u001b[39m(factors):\n",
      "File \u001b[1;32m~\\miniforge3\\envs\\phys3510\\lib\\site-packages\\sympy\\polys\\densebasic.py:1500\u001b[0m, in \u001b[0;36mdmp_exclude\u001b[1;34m(f, u, K)\u001b[0m\n\u001b[0;32m   1497\u001b[0m \u001b[38;5;28;01mif\u001b[39;00m \u001b[38;5;129;01mnot\u001b[39;00m u \u001b[38;5;129;01mor\u001b[39;00m dmp_ground_p(f, \u001b[38;5;28;01mNone\u001b[39;00m, u):\n\u001b[0;32m   1498\u001b[0m     \u001b[38;5;28;01mreturn\u001b[39;00m [], f, u\n\u001b[1;32m-> 1500\u001b[0m J, F \u001b[38;5;241m=\u001b[39m [], \u001b[43mdmp_to_dict\u001b[49m\u001b[43m(\u001b[49m\u001b[43mf\u001b[49m\u001b[43m,\u001b[49m\u001b[43m \u001b[49m\u001b[43mu\u001b[49m\u001b[43m)\u001b[49m\n\u001b[0;32m   1502\u001b[0m \u001b[38;5;28;01mfor\u001b[39;00m j \u001b[38;5;129;01min\u001b[39;00m \u001b[38;5;28mrange\u001b[39m(\u001b[38;5;241m0\u001b[39m, u \u001b[38;5;241m+\u001b[39m \u001b[38;5;241m1\u001b[39m):\n\u001b[0;32m   1503\u001b[0m     \u001b[38;5;28;01mfor\u001b[39;00m monom \u001b[38;5;129;01min\u001b[39;00m F\u001b[38;5;241m.\u001b[39mkeys():\n",
      "File \u001b[1;32m~\\miniforge3\\envs\\phys3510\\lib\\site-packages\\sympy\\polys\\densebasic.py:1101\u001b[0m, in \u001b[0;36mdmp_to_dict\u001b[1;34m(f, u, K, zero)\u001b[0m\n\u001b[0;32m   1098\u001b[0m     n \u001b[38;5;241m=\u001b[39m \u001b[38;5;241m-\u001b[39m\u001b[38;5;241m1\u001b[39m\n\u001b[0;32m   1100\u001b[0m \u001b[38;5;28;01mfor\u001b[39;00m k \u001b[38;5;129;01min\u001b[39;00m \u001b[38;5;28mrange\u001b[39m(\u001b[38;5;241m0\u001b[39m, n \u001b[38;5;241m+\u001b[39m \u001b[38;5;241m1\u001b[39m):\n\u001b[1;32m-> 1101\u001b[0m     h \u001b[38;5;241m=\u001b[39m \u001b[43mdmp_to_dict\u001b[49m\u001b[43m(\u001b[49m\u001b[43mf\u001b[49m\u001b[43m[\u001b[49m\u001b[43mn\u001b[49m\u001b[43m \u001b[49m\u001b[38;5;241;43m-\u001b[39;49m\u001b[43m \u001b[49m\u001b[43mk\u001b[49m\u001b[43m]\u001b[49m\u001b[43m,\u001b[49m\u001b[43m \u001b[49m\u001b[43mv\u001b[49m\u001b[43m)\u001b[49m\n\u001b[0;32m   1103\u001b[0m     \u001b[38;5;28;01mfor\u001b[39;00m exp, coeff \u001b[38;5;129;01min\u001b[39;00m h\u001b[38;5;241m.\u001b[39mitems():\n\u001b[0;32m   1104\u001b[0m         result[(k,) \u001b[38;5;241m+\u001b[39m exp] \u001b[38;5;241m=\u001b[39m coeff\n",
      "File \u001b[1;32m~\\miniforge3\\envs\\phys3510\\lib\\site-packages\\sympy\\polys\\densebasic.py:1101\u001b[0m, in \u001b[0;36mdmp_to_dict\u001b[1;34m(f, u, K, zero)\u001b[0m\n\u001b[0;32m   1098\u001b[0m     n \u001b[38;5;241m=\u001b[39m \u001b[38;5;241m-\u001b[39m\u001b[38;5;241m1\u001b[39m\n\u001b[0;32m   1100\u001b[0m \u001b[38;5;28;01mfor\u001b[39;00m k \u001b[38;5;129;01min\u001b[39;00m \u001b[38;5;28mrange\u001b[39m(\u001b[38;5;241m0\u001b[39m, n \u001b[38;5;241m+\u001b[39m \u001b[38;5;241m1\u001b[39m):\n\u001b[1;32m-> 1101\u001b[0m     h \u001b[38;5;241m=\u001b[39m \u001b[43mdmp_to_dict\u001b[49m\u001b[43m(\u001b[49m\u001b[43mf\u001b[49m\u001b[43m[\u001b[49m\u001b[43mn\u001b[49m\u001b[43m \u001b[49m\u001b[38;5;241;43m-\u001b[39;49m\u001b[43m \u001b[49m\u001b[43mk\u001b[49m\u001b[43m]\u001b[49m\u001b[43m,\u001b[49m\u001b[43m \u001b[49m\u001b[43mv\u001b[49m\u001b[43m)\u001b[49m\n\u001b[0;32m   1103\u001b[0m     \u001b[38;5;28;01mfor\u001b[39;00m exp, coeff \u001b[38;5;129;01min\u001b[39;00m h\u001b[38;5;241m.\u001b[39mitems():\n\u001b[0;32m   1104\u001b[0m         result[(k,) \u001b[38;5;241m+\u001b[39m exp] \u001b[38;5;241m=\u001b[39m coeff\n",
      "File \u001b[1;32m~\\miniforge3\\envs\\phys3510\\lib\\site-packages\\sympy\\polys\\densebasic.py:1101\u001b[0m, in \u001b[0;36mdmp_to_dict\u001b[1;34m(f, u, K, zero)\u001b[0m\n\u001b[0;32m   1098\u001b[0m     n \u001b[38;5;241m=\u001b[39m \u001b[38;5;241m-\u001b[39m\u001b[38;5;241m1\u001b[39m\n\u001b[0;32m   1100\u001b[0m \u001b[38;5;28;01mfor\u001b[39;00m k \u001b[38;5;129;01min\u001b[39;00m \u001b[38;5;28mrange\u001b[39m(\u001b[38;5;241m0\u001b[39m, n \u001b[38;5;241m+\u001b[39m \u001b[38;5;241m1\u001b[39m):\n\u001b[1;32m-> 1101\u001b[0m     h \u001b[38;5;241m=\u001b[39m \u001b[43mdmp_to_dict\u001b[49m\u001b[43m(\u001b[49m\u001b[43mf\u001b[49m\u001b[43m[\u001b[49m\u001b[43mn\u001b[49m\u001b[43m \u001b[49m\u001b[38;5;241;43m-\u001b[39;49m\u001b[43m \u001b[49m\u001b[43mk\u001b[49m\u001b[43m]\u001b[49m\u001b[43m,\u001b[49m\u001b[43m \u001b[49m\u001b[43mv\u001b[49m\u001b[43m)\u001b[49m\n\u001b[0;32m   1103\u001b[0m     \u001b[38;5;28;01mfor\u001b[39;00m exp, coeff \u001b[38;5;129;01min\u001b[39;00m h\u001b[38;5;241m.\u001b[39mitems():\n\u001b[0;32m   1104\u001b[0m         result[(k,) \u001b[38;5;241m+\u001b[39m exp] \u001b[38;5;241m=\u001b[39m coeff\n",
      "File \u001b[1;32m~\\miniforge3\\envs\\phys3510\\lib\\site-packages\\sympy\\polys\\densebasic.py:1095\u001b[0m, in \u001b[0;36mdmp_to_dict\u001b[1;34m(f, u, K, zero)\u001b[0m\n\u001b[0;32m   1092\u001b[0m \u001b[38;5;28;01mif\u001b[39;00m dmp_zero_p(f, u) \u001b[38;5;129;01mand\u001b[39;00m zero:\n\u001b[0;32m   1093\u001b[0m     \u001b[38;5;28;01mreturn\u001b[39;00m {(\u001b[38;5;241m0\u001b[39m,)\u001b[38;5;241m*\u001b[39m(u \u001b[38;5;241m+\u001b[39m \u001b[38;5;241m1\u001b[39m): K\u001b[38;5;241m.\u001b[39mzero}\n\u001b[1;32m-> 1095\u001b[0m n, v, result \u001b[38;5;241m=\u001b[39m \u001b[43mdmp_degree\u001b[49m\u001b[43m(\u001b[49m\u001b[43mf\u001b[49m\u001b[43m,\u001b[49m\u001b[43m \u001b[49m\u001b[43mu\u001b[49m\u001b[43m)\u001b[49m, u \u001b[38;5;241m-\u001b[39m \u001b[38;5;241m1\u001b[39m, {}\n\u001b[0;32m   1097\u001b[0m \u001b[38;5;28;01mif\u001b[39;00m n \u001b[38;5;241m==\u001b[39m ninf:\n\u001b[0;32m   1098\u001b[0m     n \u001b[38;5;241m=\u001b[39m \u001b[38;5;241m-\u001b[39m\u001b[38;5;241m1\u001b[39m\n",
      "File \u001b[1;32m~\\miniforge3\\envs\\phys3510\\lib\\site-packages\\sympy\\polys\\densebasic.py:184\u001b[0m, in \u001b[0;36mdmp_degree\u001b[1;34m(f, u)\u001b[0m\n\u001b[0;32m    182\u001b[0m     \u001b[38;5;28;01mreturn\u001b[39;00m ninf\n\u001b[0;32m    183\u001b[0m \u001b[38;5;28;01melse\u001b[39;00m:\n\u001b[1;32m--> 184\u001b[0m     \u001b[38;5;28;01mreturn\u001b[39;00m \u001b[38;5;28;43mlen\u001b[39;49m(f) \u001b[38;5;241m-\u001b[39m \u001b[38;5;241m1\u001b[39m\n",
      "\u001b[1;31mKeyboardInterrupt\u001b[0m: "
     ]
    }
   ],
   "source": [
    "import sympy as sp\n",
    "\n",
    "# Define the symbolic variables and function\n",
    "Q01, Q2, K1, M1, C, t = sp.symbols('Q1 Q01 K1 M1 C t')\n",
    "Q1 = sp.Function('Q1')(t)\n",
    "\n",
    "# Q1\"(t) = -K1/M1*Q1 - 1/3*C/M1*Q2^2\n",
    "diff_eq = sp.Eq(Q1.diff(t).diff(t), -K1/M1*Q1 - 1/3*C/M1*Q2**2)\n",
    "\n",
    "# Solve the differential equation\n",
    "general_solution = sp.dsolve(diff_eq, Q1)\n",
    "\n",
    "# Extract the solution for y(x)\n",
    "solution_Q1 = general_solution.rhs"
   ]
  },
  {
   "cell_type": "markdown",
   "id": "166bef0c-4775-4e60-906e-cbf076665ca2",
   "metadata": {},
   "source": [
    "#### NOTE\n",
    "\n",
    "Contour plot: take from that homework where we first started learning how to plot, adjust to make it anharmonic\n",
    "\n",
    "Trajectory plot: find eqs of motion (easy) and make sure to get the correct value for $\\omega$ (less easy)\n",
    "\n",
    "and then play around with the plot to find the physical explanation (can imagine as oscillators, e.g. springs?)"
   ]
  }
 ],
 "metadata": {
  "kernelspec": {
   "display_name": "Python 3 (ipykernel)",
   "language": "python",
   "name": "python3"
  },
  "language_info": {
   "codemirror_mode": {
    "name": "ipython",
    "version": 3
   },
   "file_extension": ".py",
   "mimetype": "text/x-python",
   "name": "python",
   "nbconvert_exporter": "python",
   "pygments_lexer": "ipython3",
   "version": "3.9.19"
  }
 },
 "nbformat": 4,
 "nbformat_minor": 5
}
