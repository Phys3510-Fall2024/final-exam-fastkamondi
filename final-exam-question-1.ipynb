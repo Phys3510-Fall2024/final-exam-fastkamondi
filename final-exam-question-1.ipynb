{
 "cells": [
  {
   "cell_type": "markdown",
   "id": "9cbec6db-be7d-48d1-a2c1-75e4f1d83fb8",
   "metadata": {},
   "source": [
    "## Question #1 (50 points)\n",
    "\n",
    "***This question consists of plotting and a conceptual question. Pull code from homework and midterms to optimize your effort.***\n",
    "\n",
    "For the following potential energy for anharmonically coupled oscillators, create a figure that superimposes\n",
    "\n",
    "* a contour plot of the potential energy, and;\n",
    "* the trajectory of $Q_1$ and $Q_2$.\n",
    "\n",
    "### Point breakdown\n",
    "\n",
    "* Contour plot (20 points)\n",
    "* Trajectory plot (20 points)\n",
    "* Physical explanation (10 points)\n",
    "\n",
    "### The potential energy\n",
    "\n",
    "$$ \\Delta U = \\frac{1}{2} K_1 Q_1^2 + \\frac{1}{2} K_2 Q_2^2 + \\frac{1}{3} C Q_1 Q_2^2 $$\n",
    "\n",
    "### Constrained parameters and initial conditions\n",
    "\n",
    "Take $K_1 = 1$, $K_2 = 0.2$, $M_1 = M_2 = 1$, and $C=0.5$. For the initial conditions, take $Q_1(0) = 0$, $Q_2(0) = 1$, and both velocities starting at zero.\n",
    "\n",
    "### Plotting constraints\n",
    "Plot $Q_1$ and $Q_2$ on the horizontal and vertical axes, respectively. I suggest a meshgrid of at least $100 \\times 100$ points.\n",
    "\n",
    "For your contour plot, combine `plt.contour` and `plt.contourf` with code similar to the following:\n",
    "\n",
    "* `plt.contourf(Q1_grid, Q2_grid, U_grid, levels=50, cmap='viridis')`\n",
    "* `plt.contour(Q1_grid, Q2_grid, U_grid, levels=50, colors='white', linewidths=1)`\n",
    "\n",
    "Also, use `plt.xlim(-1.5, 1.5)` and `plt.ylim(-1.5, 1.5)`\n",
    "\n",
    "Don't forget to label your axes.\n",
    "\n",
    "### Getting and plotting the trajectory\n",
    "\n",
    "To get the trajectory, you will need to set up and solve the equations of motion, as we did in previous homework and in class. Then you can plot $Q_2$ versus $Q_1$ with `matplotlib` using a line of code similar to `plt.plot(Q1, Q2, color='red', label=\"Trajectory\")`.\n",
    "\n",
    "Plot the trajectory from $t=0$ to $t=50$, with an appropriate choice of mesh points to ensure the trajectory is resolved. (e.g. `t_mesh = np.linspace(0, 50, 200)`)\n",
    "\n",
    "### Physical explanation\n",
    "\n",
    "With your code complete, you can test four cases for the initial conditions (all with the initial velocity set to zero):\n",
    "\n",
    "1. $Q_1(0) = 0$, $Q_2(0) = 1$ (**submit this plot**)\n",
    "2. $Q_1(0) = 0$, $Q_2(0) = -1$\n",
    "3. $Q_1(0) = 1$, $Q_2(0) = 0$\n",
    "4. $Q_1(0) = -1$, $Q_2(0) = 0$\n",
    "\n",
    "Why do the dynamics differ when only $Q_1$ is initially displaced compared to when only $Q_2$ is initially displaced? How does this relate to the coupling term in the potential energy? What is the physical interpretation? You could use our cylindrical beam example from class to describe this, if you like.\n"
   ]
  },
  {
   "cell_type": "markdown",
   "id": "166bef0c-4775-4e60-906e-cbf076665ca2",
   "metadata": {},
   "source": [
    "#### NOTE\n",
    "\n",
    "Contour plot: take from that homework where we first started learning how to plot, adjust to make it anharmonic\n",
    "\n",
    "Trajectory plot: find eqs of motion (easy) and make sure to get the correct value for $\\omega$ (less easy)\n",
    "\n",
    "and then play around with the plot to find the physical explanation (can imagine as oscillators, e.g. springs?)"
   ]
  }
 ],
 "metadata": {
  "kernelspec": {
   "display_name": "Python 3 (ipykernel)",
   "language": "python",
   "name": "python3"
  },
  "language_info": {
   "codemirror_mode": {
    "name": "ipython",
    "version": 3
   },
   "file_extension": ".py",
   "mimetype": "text/x-python",
   "name": "python",
   "nbconvert_exporter": "python",
   "pygments_lexer": "ipython3",
   "version": "3.9.19"
  }
 },
 "nbformat": 4,
 "nbformat_minor": 5
}
