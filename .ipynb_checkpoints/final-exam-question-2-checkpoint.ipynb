{
 "cells": [
  {
   "cell_type": "markdown",
   "id": "8d7c3dcd-5e18-4bfa-a932-da5ec1c22528",
   "metadata": {},
   "source": [
    "## Question 2 (50 points)\n",
    "\n",
    "***This question consists of pseudocode, extracting a frequency numerically, and plotting. Pull code from homework and midterms to optimize your effort.***\n",
    "\n",
    "For the following potential energy for an anharmonic oscillator, we will create a figure that shows the angular frequency, $\\omega$ versus the initial amplitude of the oscillator $Q_0$.\n",
    "\n",
    "### The potential energy (notice the minus sign on the fourth-order term)\n",
    "\n",
    "$$ \\Delta U = \\frac{1}{2} K Q^2 - \\frac{1}{4} D Q^4 + \\frac{1}{6} \\Phi Q^6 $$\n",
    "\n",
    "### Constrained parameters\n",
    "\n",
    "Take $K = 1$, $D=2.4$, $\\Phi=1$, and $M = 1$.\n",
    "\n",
    "### Plotting constraints\n",
    "\n",
    "Plot a range of initial displacements spanning $Q_0 = \\pm 1.7$ (see the representative plot below)\n",
    "\n",
    "### Extracting the angular frequency\n",
    "\n",
    "Recall that in the second midterm and subsequent weeks we developed a strategy for a variant of this problem which used the following steps:\n",
    "\n",
    "1. Solve the differential equation for $Q(t)$ for initial value $Q_0$ (take the initial velocity to be zero);\n",
    "2. Use `ipywidgets` to explore this solution in a figure and extract approximate values of the period $T$ as a function of $Q_0$. We found $T$ by getting the time from peak to peak or valley to valley;\n",
    "3. Interpolate the approximate values of $T$;\n",
    "4. Use in interpolated values of $T$ as a guess for a minima finding algorithm;\n",
    "5. Convert the extracted values of $T$ to angular frequency by $\\omega=\\frac{2\\pi}{T}$.\n",
    "6. To deal with the stationary solutions (e.g. $Q_0 = 0$), we used analytic results for the angular frequency by taking using the formula $\\omega = \\sqrt{\\frac{1}{M}\\frac{d^2\\Delta U}{d Q^2}}$.\n",
    "\n",
    "***This means you should be able to copy and paste most of the code from the midterm and subsequent weeks to optimize your effort***\n",
    "\n",
    "### Steps to construct the plot\n",
    "\n",
    "1. Write pseudocode to set up your strategy (**10 points**);\n",
    "2. Expand your pseudocode to include INPUT, OUTPUT, and TESTS that you could use to program each custom function (**10 points**);\n",
    "3. Write those functions and test them (**10 points**);\n",
    "4. Combine your custom functions for streamlined code and the plot of $\\omega$ versus $Q_0$ (**10 points**);\n",
    "5. Describe the plot in your own words (**10 points**)."
   ]
  },
  {
   "cell_type": "markdown",
   "id": "2b34c8d2-64d2-4981-82a9-a0cf4ce9198b",
   "metadata": {},
   "source": [
    "### Plot of the potential energy"
   ]
  },
  {
   "cell_type": "code",
   "execution_count": 9,
   "id": "a50f8e1e-81f4-4e36-8300-8a11f9d5bc95",
   "metadata": {},
   "outputs": [
    {
     "data": {
      "application/vnd.jupyter.widget-view+json": {
       "model_id": "8c9fae9fad9645d6ac14825b0311f0a4",
       "version_major": 2,
       "version_minor": 0
      },
      "text/plain": [
       "interactive(children=(FloatSlider(value=1.0, description='$K$', max=5.0), FloatSlider(value=2.4, description='…"
      ]
     },
     "metadata": {},
     "output_type": "display_data"
    },
    {
     "data": {
      "text/plain": [
       "<function __main__.plot_potential_energy(K, D, Phi)>"
      ]
     },
     "execution_count": 9,
     "metadata": {},
     "output_type": "execute_result"
    }
   ],
   "source": [
    "import numpy as np\n",
    "import matplotlib.pyplot as plt\n",
    "import ipywidgets as widgets\n",
    "\n",
    "def plot_potential_energy(K, D, Phi):\n",
    "    # define potential function\n",
    "    def potential_energy(Q, K=1.0, D=2.4, Phi=1.0):\n",
    "        return (1/2) * K * Q**2 - (1/4) * D * Q**4 + (1/6) * Phi * Q**6\n",
    "    \n",
    "    # define mesh for plotting\n",
    "    Q_mesh = np.linspace(-2,2,100)\n",
    "    U_mesh = potential_energy(Q_mesh, K, D, Phi)\n",
    "    \n",
    "    # construct figure\n",
    "    plt.figure(figsize=(5, 4))\n",
    "    plt.plot(Q_mesh, U_mesh, color=\"teal\")\n",
    "    plt.xlabel(\"$Q$\")\n",
    "    plt.ylabel(\"$\\Delta U$\")\n",
    "    plt.xlim(-2,2)\n",
    "    plt.ylim(-0.1,0.25)\n",
    "    plt.axhline(linewidth='0.4',color='grey')\n",
    "    plt.axvline(linewidth='0.4',color='grey')\n",
    "    plt.show()\n",
    "\n",
    "widgets.interact(plot_potential_energy,\n",
    "                 K   = widgets.FloatSlider(min=0, max=5, step=0.1, value=1.0, description='$K$'),\n",
    "                 D   = widgets.FloatSlider(min=0, max=5, step=0.1, value=2.4, description='$D$'),\n",
    "                 Phi = widgets.FloatSlider(min=0, max=5, step=0.1, value=1.0, description='$\\Phi$')\n",
    "                )"
   ]
  },
  {
   "cell_type": "markdown",
   "id": "1d7280cb-caf1-43f4-811d-56f4746ad71e",
   "metadata": {},
   "source": [
    "$$ \\Delta U = \\frac{1}{2} K Q^2 - \\frac{1}{4} D Q^4 + \\frac{1}{6} \\Phi Q^6 $$"
   ]
  },
  {
   "cell_type": "markdown",
   "id": "da8eecd1-df03-46a5-a381-bad1b1e5f7c8",
   "metadata": {},
   "source": [
    "Plot a range of initial displacements spanning $Q_0 = \\pm 1.7$\n",
    "\n",
    "Create a figure that shows angular frequency $\\omega$ vs initial amplitude $Q_0$.\n",
    "\n",
    "**PLAN**:\n",
    "* Plot potential energy with changeable $K$, $D$, and $\\Phi$ values to explore the dynamics of the problem\n",
    "* Solve equations of motion (try analytically first, if I get stuck then use a numerical solver)\n",
    "* Plot $Q(t)$ vs $Q_0$ with adjustable $Q_0$ values with anharmonic and harmonic case\n",
    "* Extract approximate $\\tau$ values for each $Q_0$ to get a guess for a minima finder\n",
    "* Minima finder will give half-period, double each value to get numerically solved $\\tau$\n",
    "* Convert $\\tau$ to $\\omega$ with $\\omega = \\frac{2\\pi}{\\tau}$\n",
    "* Use the approximated $\\omega$ values to create the plot of $\\omega$ vs $Q_0$"
   ]
  },
  {
   "cell_type": "markdown",
   "id": "394047e1-d780-4bee-b2bb-1a4a4fb9f300",
   "metadata": {},
   "source": [
    "#### Equations of Motion:\n",
    "\n",
    "$\\Delta U = \\frac12KQ^2 - \\frac14DQ^4 + \\frac16\\Phi Q^6$\n",
    "\n",
    "---\n",
    "\n",
    "$Q(t) = Acos(\\omega t) + Bsin(\\omega t)$\n",
    "\n",
    "$\\dot Q(t) = -A\\omega sin(\\omega t) + B\\omega cos(\\omega t)$\n",
    "\n",
    "$\\ddot Q(t) = -A\\omega^2cos(\\omega t) - B\\omega^2 sin(\\omega t)$\n",
    "\n",
    "---\n",
    "\n",
    "$Q(0) = Q_0 = Acos(0) + Bsin(0) \\rightarrow A = Q_0$\n",
    "\n",
    "$\\dot Q(0) = V_0 = -A\\omega_0sin(0) + B\\omega_0cos(0) \\rightarrow B = \\frac{V_0}{\\omega_0}$\n",
    "\n",
    "---\n",
    "\n",
    "$\\omega = \\sqrt{\\frac{1}{M}\\frac{d^2U}{dQ^2}} \\rightarrow \\omega = \\sqrt{\\frac{1}{M}(K - 3DQ^2 + 5\\Phi Q^4)} \\rightarrow \\omega_0 = \\sqrt{\\frac{K}{M}}$\n",
    "\n",
    "---\n",
    "\n",
    "$Q(t) = Q_0cos(\\omega t) + \\frac{V_0}{\\omega_0}sin(\\omega t)$"
   ]
  },
  {
   "cell_type": "markdown",
   "id": "1708972b-d307-4127-b0fc-95b2dbb70eac",
   "metadata": {},
   "source": [
    "$\\omega = \\sqrt{\\frac{1}{M}(K - 3DQ^2 +5\\Phi Q^4)}$\n",
    "\n",
    "Small angle approximation: $(1 + \\epsilon)^\\frac12 = 1 + \\epsilon + ...$\n",
    "\n",
    "$\\omega = \\sqrt{\\frac{K}{M}}\\sqrt{1 - \\frac{3D}{K}Q^2 + \\frac{5\\Phi}{K}Q^4} \\approx \\sqrt{\\frac{K}{M}}(1 - \\frac{3D}{2K}Q^2 + \\frac{5\\Phi}{2K}Q^4)$\n",
    "\n",
    "$\\omega = \\omega_0(1 - \\frac{3D}{2K}Q^2 + \\frac{5\\Phi}{2K}Q^4)$"
   ]
  },
  {
   "cell_type": "markdown",
   "id": "38595616-a23d-4b83-b464-216c78729df4",
   "metadata": {},
   "source": [
    "#### To use RK45 Solver:\n",
    "\n",
    "Define first-order system of differential equations:\n",
    "\n",
    "$\\dot Q = V$\n",
    "\n",
    "$\\dot V = -\\frac{K}{M}Q + \\frac{D}{M}Q^3 - \\frac{\\Phi}{M}Q^5$"
   ]
  },
  {
   "cell_type": "code",
   "execution_count": 24,
   "id": "fcc6907f-ea24-4805-b96d-a344c82a71fb",
   "metadata": {},
   "outputs": [],
   "source": [
    "from scipy.interpolate import interp1d\n",
    "\n",
    "Q0_by_hand     = np.array([0.0000, 0.1300, 0.1800, 0.2200, 0.2800, 0.3300, 0.3700, 0.4100, 0.4600, 0.4900, 0.5100, 0.5600, 0.6000, 0.6700,\n",
    "                           0.7100, 0.7350, 0.7550, 0.7800, 0.7850, 0.7950, 0.8150, 0.9300, 0.9900, 1.0650, 1.1350, 1.2600, 1.3150, 1.4200,\n",
    "                           1.4800, 1.5650, 1.5850, 1.5900, 1.6100, 1.6400, 1.6750, 1.7050])\n",
    "period_by_hand = np.array([1.0000, 1.0141, 1.0277, 1.0455, 1.0769, 1.1111, 1.1429, 1.1818, 1.2500, 1.2727, 1.3333, 1.4286, 1.5714, 2.0000,\n",
    "                           2.6000, 5.0000, 3.1538, 3.5000, 3.3750, 2.2308, 1.0833, 0.6666, 0.6000, 0.5556, 0.5116, 0.4615, 0.4516, 0.4545,\n",
    "                           0.4762, 0.6154, 0.7777, 3.8571, 2.2308, 1.7143, 1.4000, 1.2500])\n",
    "period_by_hand = 4*period_by_hand\n",
    "\n",
    "Q0_by_hand = np.concatenate((-np.flip(Q0_by_hand), Q0_by_hand))\n",
    "period_by_hand = np.concatenate((np.flip(period_by_hand), period_by_hand))\n",
    "\n",
    "period_interp = interp1d(Q0_by_hand, period_by_hand, kind='linear')"
   ]
  },
  {
   "cell_type": "code",
   "execution_count": 26,
   "id": "fdd52379-c3c6-4203-b7fd-0477014c41bf",
   "metadata": {},
   "outputs": [
    {
     "data": {
      "application/vnd.jupyter.widget-view+json": {
       "model_id": "fc3628706ba64a94be0c88c803b09667",
       "version_major": 2,
       "version_minor": 0
      },
      "text/plain": [
       "interactive(children=(FloatSlider(value=0.6, description='$Q_0$', max=1.75, readout_format='.3f', step=0.005),…"
      ]
     },
     "metadata": {},
     "output_type": "display_data"
    },
    {
     "data": {
      "text/plain": [
       "<function __main__.plot_Q_vs_Q0(Q0, t_max=25)>"
      ]
     },
     "execution_count": 26,
     "metadata": {},
     "output_type": "execute_result"
    }
   ],
   "source": [
    "import numpy as np\n",
    "import matplotlib.pyplot as plt\n",
    "import ipywidgets as widgets\n",
    "from scipy.integrate import solve_ivp\n",
    "\n",
    "# plot Q(t) vs Q_0\n",
    "def plot_Q_vs_Q0(Q0, t_max=25):\n",
    "    \n",
    "    def potential_energy(Q, K=1.0, D=2.4, Phi=1.0):\n",
    "        return -((1/2) * K * Q**2 - (1/4) * D * Q**4 + (1/6) * Phi * Q**6)\n",
    "        \n",
    "    # omega = omega0 for harmonic case\n",
    "    def eqs_motion_harmonic(t_vals, Q0 = 0.1, V0 = 0.0, K=1.0, D=2.4, Phi=1.0, M = 1.0):\n",
    "        omega0 = np.sqrt(K/M)\n",
    "        return Q0*np.cos(omega0*t_vals) + V0/omega0*np.sin(omega0*t_vals)\n",
    "\n",
    "    def anharmonic_oscillator(t_vals, y, K=1.0, D=2.4, Phi=1.0, M = 1.0):\n",
    "        Q, V = y\n",
    "        dQdt = V\n",
    "        dVdt = -(K/M*Q) + (D/M*Q**3) - (Phi/M*Q**5)\n",
    "        return [dQdt, dVdt]\n",
    "\n",
    "    # initial conditions\n",
    "    V0  = 0\n",
    "    K   = 1.0\n",
    "    D   = 2.4\n",
    "    Phi = 1.0\n",
    "    M   = 1.0\n",
    "    \n",
    "    y0 = Q0, V0\n",
    "    sol = solve_ivp(anharmonic_oscillator,\n",
    "                [0, t_max],\n",
    "                y0,\n",
    "                t_eval=np.linspace(0, t_max, 500),\n",
    "                args=(K, D, Phi, M))\n",
    "    \n",
    "    # define mesh for plotting\n",
    "    t_vals = np.linspace(0,t_max,500)\n",
    "    Q_vals_harmonic   = eqs_motion_harmonic(t_vals, Q0)\n",
    "    Q_vals_anharmonic = sol.y[0]\n",
    "    U_vals = potential_energy(Q_vals_anharmonic)\n",
    "    \n",
    "    # construct figure\n",
    "    plt.figure(figsize=(12, 4))\n",
    "    \n",
    "    plt.plot(t_vals, U_vals, color=\"grey\", label=\"Anharmonic Potential Energy $U(Q)\")\n",
    "    plt.plot(t_vals, Q_vals_harmonic, color=\"teal\", label=\"Harmonic Oscillator\")\n",
    "    plt.plot(t_vals, Q_vals_anharmonic, color=\"red\", label=\"Anharmonic Oscillator\")\n",
    "    plt.xlabel(\"$t$\")\n",
    "    plt.ylabel(\"$Q(t)$\")\n",
    "    plt.xlim(0,t_max)\n",
    "    plt.ylim(-1.8,1.8)\n",
    "    plt.axhline(linewidth='0.4', color='grey')\n",
    "    plt.axvline(x = period_interp(Q0), linewidth='0.4', color='grey')\n",
    "    plt.show()\n",
    "    # print(period_interp(Q0))\n",
    "\n",
    "widgets.interact(plot_Q_vs_Q0,\n",
    "                 Q0    = widgets.FloatSlider(min=0, max=1.75, step=0.005, value=0.6, description='$Q_0$', readout_format = '.3f'),\n",
    "                 t_max = widgets.FloatSlider(min=0.0,  max=200,  step=1.0, value=25.0, description='Max Time')\n",
    "                )"
   ]
  },
  {
   "cell_type": "markdown",
   "id": "67a68eab-1a92-4ecf-bbbc-a45e79d300c4",
   "metadata": {},
   "source": [
    "##### NOTE TO SELF:\n",
    "\n",
    "When the amplitude of the anharmonic curve stays mostly in the same range as the harmonic, that's when it's in the central potential well. When it gets pointy above the teal curve (positive $Q(t)$ values), that's when it's in the right potential well. Below the teal curve is when it's in the left one. There's some weird behavior around the points where the initial potential is large enough to go through all three wells (e.g. $Q_0 = 0.720$), which I think may be an issue with the numerical equation solver"
   ]
  },
  {
   "cell_type": "markdown",
   "id": "0062950e-dad3-426c-b705-7417f381ea62",
   "metadata": {},
   "source": [
    "**\"Experimental\" Initial amplitude $Q_0$ vs period $\\tau$**, setting the period of the harmonic case equal to 1 ($\\tau_0 = 1$):\n",
    "\n",
    "| $Q_0$   | $\\tau$          | Rounded  | | | $Q_0$   | $\\tau$          | Rounded  |\n",
    "|---------|-----------------|----------|-|-|---------|-----------------|----------|\n",
    "| $0.000$ | $1$             | $1.0000$ | | | $0.785$ | $\\frac{27}{8}$  | $3.3750$ |\n",
    "| $0.130$ | $\\frac{72}{71}$ | $1.0141$ | | | $0.795$ | $\\frac{29}{12}$ | $2.2308$ |\n",
    "| $0.180$ | $\\frac{37}{36}$ | $1.0277$ | | | $0.815$ | $\\frac{13}{12}$ | $1.0833$ |\n",
    "| $0.220$ | $\\frac{23}{22}$ | $1.0455$ | | | $0.930$ | $\\frac{4}{6}$   | $0.6666$ |\n",
    "| $0.280$ | $\\frac{14}{13}$ | $1.0769$ | | | $0.990$ | $\\frac{6}{10}$  | $0.6000$ |\n",
    "| $0.330$ | $\\frac{10}{9}$  | $1.1111$ | | | $1.065$ | $\\frac{5}{9}$   | $0.5556$ |\n",
    "| $0.370$ | $\\frac{8}{7}$   | $1.1429$ | | | $1.135$ | $\\frac{22}{43}$ | $0.5116$ |\n",
    "| $0.410$ | $\\frac{13}{11}$ | $1.1818$ | | | $1.260$ | $\\frac{6}{13}$  | $0.4615$ |\n",
    "| $0.460$ | $\\frac{5}{4}$   | $1.2500$ | | | $1.315$ | $\\frac{14}{31}$ | $0.4516$ |\n",
    "| $0.490$ | $\\frac{14}{11}$ | $1.2727$ | | | $1.420$ | $\\frac{5}{11}$  | $0.4545$ |\n",
    "| $0.510$ | $\\frac{4}{3}$   | $1.3333$ | | | $1.480$ | $\\frac{10}{21}$ | $0.4762$ |\n",
    "| $0.560$ | $\\frac{10}{7}$  | $1.4286$ | | | $1.565$ | $\\frac{8}{13}$  | $0.6154$ |\n",
    "| $0.600$ | $\\frac{11}{7}$  | $1.5714$ | | | $1.585$ | $\\frac{7}{9}$   | $0.7777$ |\n",
    "| $0.670$ | $2$             | $2.0000$ | | | $1.590$ | $\\frac{27}{7}$  | $3.8571$ |\n",
    "| $0.710$ | $\\frac{13}{5}$  | $2.6000$ | | | $1.610$ | $\\frac{29}{13}$ | $2.2308$ |\n",
    "| $0.735$ | $5$             | $5.0000$ | | | $1.640$ | $\\frac{12}{7}$  | $1.7143$ |\n",
    "| $0.755$ | $\\frac{41}{13}$ | $3.1538$ | | | $1.675$ | $\\frac{7}{5}$   | $1.4000$ |\n",
    "| $0.780$ | $\\frac{21}{6}$  | $3.5000$ | | | $1.705$ | $\\frac{5}{4}$   | $1.2500$ |\n",
    "\n",
    "The period becomes twice (?) as long when it reaches the $Q_0$ required to get out of the central potential well and into the wells on the sides, then later becomes shorter again as it gets stuck in the right well (and left, because it's symmetrical, but I only looked at positive $Q_0$ values)"
   ]
  },
  {
   "cell_type": "code",
   "execution_count": null,
   "id": "ede0b16d-49c6-4f91-9f70-bbec21900749",
   "metadata": {},
   "outputs": [],
   "source": []
  }
 ],
 "metadata": {
  "kernelspec": {
   "display_name": "Python 3 (ipykernel)",
   "language": "python",
   "name": "python3"
  },
  "language_info": {
   "codemirror_mode": {
    "name": "ipython",
    "version": 3
   },
   "file_extension": ".py",
   "mimetype": "text/x-python",
   "name": "python",
   "nbconvert_exporter": "python",
   "pygments_lexer": "ipython3",
   "version": "3.9.19"
  }
 },
 "nbformat": 4,
 "nbformat_minor": 5
}
