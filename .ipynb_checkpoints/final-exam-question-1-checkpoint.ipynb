{
 "cells": [
  {
   "cell_type": "markdown",
   "id": "9cbec6db-be7d-48d1-a2c1-75e4f1d83fb8",
   "metadata": {},
   "source": [
    "## Question #1 (50 points)\n",
    "\n",
    "***This question consists of plotting and a conceptual question. Pull code from homework and midterms to optimize your effort.***\n",
    "\n",
    "For the following potential energy for anharmonically coupled oscillators, create a figure that superimposes\n",
    "\n",
    "* a contour plot of the potential energy, and;\n",
    "* the trajectory of $Q_1$ and $Q_2$.\n",
    "\n",
    "### Point breakdown\n",
    "\n",
    "* Contour plot (20 points)\n",
    "* Trajectory plot (20 points)\n",
    "* Physical explanation (10 points)\n",
    "\n",
    "### The potential energy\n",
    "\n",
    "$$ \\Delta U = \\frac{1}{2} K_1 Q_1^2 + \\frac{1}{2} K_2 Q_2^2 + \\frac{1}{3} C Q_1 Q_2^2 $$\n",
    "\n",
    "### Constrained parameters and initial conditions\n",
    "\n",
    "Take $K_1 = 1$, $K_2 = 0.2$, $M_1 = M_2 = 1$, and $C=0.5$. For the initial conditions, take $Q_1(0) = 0$, $Q_2(0) = 1$, and both velocities starting at zero.\n",
    "\n",
    "### Plotting constraints\n",
    "Plot $Q_1$ and $Q_2$ on the horizontal and vertical axes, respectively. I suggest a meshgrid of at least $100 \\times 100$ points.\n",
    "\n",
    "For your contour plot, combine `plt.contour` and `plt.contourf` with code similar to the following:\n",
    "\n",
    "* `plt.contourf(Q1_grid, Q2_grid, U_grid, levels=50, cmap='viridis')`\n",
    "* `plt.contour(Q1_grid, Q2_grid, U_grid, levels=50, colors='white', linewidths=1)`\n",
    "\n",
    "Also, use `plt.xlim(-1.5, 1.5)` and `plt.ylim(-1.5, 1.5)`\n",
    "\n",
    "Don't forget to label your axes.\n",
    "\n",
    "### Getting and plotting the trajectory\n",
    "\n",
    "To get the trajectory, you will need to set up and solve the equations of motion, as we did in previous homework and in class. Then you can plot $Q_2$ versus $Q_1$ with `matplotlib` using a line of code similar to `plt.plot(Q1, Q2, color='red', label=\"Trajectory\")`.\n",
    "\n",
    "Plot the trajectory from $t=0$ to $t=50$, with an appropriate choice of mesh points to ensure the trajectory is resolved. (e.g. `t_mesh = np.linspace(0, 50, 200)`)\n",
    "\n",
    "### Physical explanation\n",
    "\n",
    "With your code complete, you can test four cases for the initial conditions (all with the initial velocity set to zero):\n",
    "\n",
    "1. $Q_1(0) = 0$, $Q_2(0) = 1$ (**submit this plot**)\n",
    "2. $Q_1(0) = 0$, $Q_2(0) = -1$\n",
    "3. $Q_1(0) = 1$, $Q_2(0) = 0$\n",
    "4. $Q_1(0) = -1$, $Q_2(0) = 0$\n",
    "\n",
    "Why do the dynamics differ when only $Q_1$ is initially displaced compared to when only $Q_2$ is initially displaced? How does this relate to the coupling term in the potential energy? What is the physical interpretation? You could use our cylindrical beam example from class to describe this, if you like.\n"
   ]
  },
  {
   "cell_type": "markdown",
   "id": "f2ae6a52-fd4f-47c1-bf45-157e4223ed8e",
   "metadata": {},
   "source": [
    "$$ \\Delta U = \\frac{1}{2} K_1 Q_1^2 + \\frac{1}{2} K_2 Q_2^2 + \\frac{1}{3} C Q_1 Q_2^2 $$"
   ]
  },
  {
   "cell_type": "code",
   "execution_count": 23,
   "id": "cb6b705f-69cb-4ed1-b3a4-adbf85b73c53",
   "metadata": {},
   "outputs": [
    {
     "data": {
      "application/vnd.jupyter.widget-view+json": {
       "model_id": "caa95ad64ca740a0bb48c114ab958ffe",
       "version_major": 2,
       "version_minor": 0
      },
      "text/plain": [
       "interactive(children=(FloatSlider(value=1.0, description='$K_1$', max=20.0, min=-20.0), FloatSlider(value=0.2,…"
      ]
     },
     "metadata": {},
     "output_type": "display_data"
    },
    {
     "data": {
      "text/plain": [
       "<function __main__.plot_coupled_oscillators(K1, K2, C)>"
      ]
     },
     "execution_count": 23,
     "metadata": {},
     "output_type": "execute_result"
    }
   ],
   "source": [
    "import numpy as np\n",
    "import matplotlib.pyplot as plt\n",
    "import ipywidgets as widgets\n",
    "\n",
    "def plot_coupled_oscillators(K1,K2,C):\n",
    "    # define potential energy function\n",
    "    def coupled_potentials(Q1, Q2, K1 = 1.0, K2 = 0.2, C = 0.5):\n",
    "        return 0.5*K1*Q1**2 + 0.5*K2*Q2**2 + C*Q1*Q2**2/3\n",
    "    \n",
    "    # define mesh for plotting\n",
    "    Q1 = np.linspace(-1.5, 1.5, 100)\n",
    "    Q2 = np.linspace(-1.5, 1.5, 100)\n",
    "    Q1_grid, Q2_grid = np.meshgrid(Q1,Q2)\n",
    "    \n",
    "    # define potential energy values\n",
    "    U_grid = coupled_potentials(Q1_grid,Q2_grid,K1,K2,C)\n",
    "    \n",
    "    # construct contour plot\n",
    "    plt.figure(figsize = (5,4))\n",
    "    plt.contourf(Q1_grid,Q2_grid,U_grid, levels=50, cmap='viridis')\n",
    "    plt.plot(Q1, Q2, color='red', label=\"Trajectory\")\n",
    "    # plt.contour(Q1_grid, Q2_grid, U_grid, levels=50, colors='white', linewidths=1)\n",
    "    plt.title(\"Potential Energy of a 2D Harmonic Oscillator\")\n",
    "    plt.colorbar(label = \"Potential energy $U(Q)$\")\n",
    "    plt.xlabel(\"Displacement $Q_1$\")\n",
    "    plt.ylabel(\"Displacement $Q_2$\")\n",
    "    plt.xlim([-1.5,1.5])\n",
    "    plt.ylim([-1.5,1.5])\n",
    "    plt.show()\n",
    "\n",
    "widgets.interact(plot_coupled_oscillators,\n",
    "                 K1  = widgets.FloatSlider(value = 1.0, min = -20.0, max = 20.0, step = 0.1, description = \"$K_1$\"),\n",
    "                 K2  = widgets.FloatSlider(value = 0.2, min = -20.0, max = 20.0, step = 0.1, description = \"$K_2$\"),\n",
    "                 C   = widgets.FloatSlider(value = 0.5, min = -5.0, max = 5.0, step = 0.1, description = \"$C$\")\n",
    "                )"
   ]
  },
  {
   "cell_type": "markdown",
   "id": "bc69518c-ccde-4d70-b35b-f9e751765a3c",
   "metadata": {},
   "source": [
    "**Observations from interactive graph:**\n",
    "* Adjusting $K_1$ changes the amplitude of $Q_1$, and how steep the slope of the well is. Negative $K_1$ flips the parabola upside down. As expected, it does not have an effect on $Q_2$\n",
    "* Adjusting $K_2$ has the same effect on $Q_2$ and $Q_1$ that $K_1$ does on $Q_1$ and $Q_2$ respectively\n",
    "* For increasing $C$, the $Q_2$ contour becomes flattened out where $Q_1 = 0$. When $Q_1$ is offset to the negative, the $Q_2$ contour becomes a negative parabola, and when $Q_1$ is offset to the positive, the $Q_2$ potential is a regular parabola\n",
    "* For decreasing $C$, the same effect occurs but in reverse (i.e. moving $Q_1$ to the negative direction causes the $Q_2$ potential to form a positive parabola)\n",
    "* Adjusting $C$ yields a similar effect on $Q_1$ — for positive $C$ and $Q_2$ shifted from the origin, the $Q_1$ potential forms a cubic curve with a saddle point at $Q_1 = 0$. For negative $C$, the cubic curve is negative. The curve is the same regardless of which direction $Q_2$ is shifted in"
   ]
  },
  {
   "cell_type": "markdown",
   "id": "a01a1a5d-4c02-4f1d-b9a1-271bd801bdb6",
   "metadata": {},
   "source": [
    "# [FIGURE OUT THE PHYSICAL EXPLANATION FOR THIS BEHAVIOR FROM THE MODEL]"
   ]
  },
  {
   "cell_type": "markdown",
   "id": "348a6929-df9b-4144-abbe-1c15af423558",
   "metadata": {},
   "source": [
    "## Equations of Motion:\n",
    "\n",
    "$\\vec{F} = m\\vec{\\ddot Q} = \\nabla U(\\vec{Q})$\n",
    "\n",
    "$m\\vec{\\ddot Q} = -\\hat{q_1}(K_1Q_1 + \\frac13CQ_2^2) - \\hat{q_2}(K_2Q_2 + \\frac23CQ_1Q_2)$\n",
    "\n",
    "$\\ddot Q_1 = -\\frac{K_1}{M_1}Q_1 - \\frac13\\frac{C}{M_1}Q_2^2, \\ddot Q_2 = -\\frac{K_2}{M_2} - \\frac23\\frac{C}{M_2}Q_1Q_2$"
   ]
  },
  {
   "cell_type": "code",
   "execution_count": 1,
   "id": "8bd8a69e-6b9d-45a1-a8fb-eea0355061ed",
   "metadata": {},
   "outputs": [],
   "source": [
    "# import sympy as sp\n",
    "\n",
    "# # Define the symbolic variables and function\n",
    "# Q01, Q2, K1, M1, C, t = sp.symbols('Q1 Q01 K1 M1 C t')\n",
    "# Q1 = sp.Function('Q1')(t)\n",
    "\n",
    "# # Q1\"(t) = -K1/M1*Q1 - 1/3*C/M1*Q2^2\n",
    "# diff_eq = sp.Eq(Q1.diff(t).diff(t), -K1/M1*Q1 - 1/3*C/M1*Q2**2)\n",
    "\n",
    "# # Solve the differential equation\n",
    "# general_solution = sp.dsolve(diff_eq, Q1)\n",
    "\n",
    "# # Extract the solution for y(x)\n",
    "# solution_Q1 = general_solution.rhs"
   ]
  },
  {
   "cell_type": "markdown",
   "id": "f2f5a472-d4f0-4070-9535-034d52b2d3e2",
   "metadata": {},
   "source": [
    "* Use RK45 solver to get the equations of motion and put into the above graph for the trajectory"
   ]
  },
  {
   "cell_type": "code",
   "execution_count": 25,
   "id": "9390c78f-59f9-4f5c-9d99-b39ccfc45fbf",
   "metadata": {},
   "outputs": [
    {
     "data": {
      "image/png": "[encoded data removed]",
      "text/plain": [
       "<Figure size 500x400 with 1 Axes>"
      ]
     },
     "metadata": {},
     "output_type": "display_data"
    }
   ],
   "source": [
    "import numpy as np\n",
    "import matplotlib.pyplot as plt\n",
    "import ipywidgets as widgets\n",
    "from scipy.integrate import solve_ivp\n",
    "\n",
    "# initial conditions\n",
    "Q0 = [1.0, 1.0]\n",
    "V0 = [0.0, 0.0]\n",
    "K  = [1.0, 0.2]\n",
    "M  = [1.0, 1.0]\n",
    "C  = 0.5\n",
    "t_max = 50\n",
    "\n",
    "y0 = Q0, V0\n",
    "\n",
    "def Q1_eqs_motion(t_vals, y, Q2, K, M, C):\n",
    "    Q1, V = y\n",
    "    dQdt = V\n",
    "    dVdt = -K[0]*Q1 - C*Q2**2/3\n",
    "    return [dQdt, dVdt]\n",
    "\n",
    "def Q2_eqs_motion(t_vals, y, Q1, K, M, C):\n",
    "    Q2, V = y\n",
    "    dQdt = V\n",
    "    dVdt = -K[1]*Q2 - 2*C*Q1*Q2/3\n",
    "    return [dQdt, dVdt]\n",
    "    \n",
    "Q1_sol = solve_ivp(Q1_eqs_motion,\n",
    "                   [0, t_max],\n",
    "                   y0[0],\n",
    "                   t_eval=np.linspace(0, t_max, 500),\n",
    "                   args=(Q0[0], K, M, C))\n",
    "\n",
    "Q2_sol = solve_ivp(Q2_eqs_motion,\n",
    "                   [0, t_max],\n",
    "                   y0[1],\n",
    "                   t_eval=np.linspace(0, t_max, 500),\n",
    "                   args=(Q0[1], K, M, C))\n",
    "\n",
    "# define mesh for plotting\n",
    "t_vals = np.linspace(0,t_max,500)\n",
    "Q1_mesh = Q1_sol.y[0]\n",
    "Q2_mesh = Q2_sol.y[0]\n",
    "\n",
    "# construct figure\n",
    "plt.figure(figsize=(5, 4))\n",
    "plt.plot(t_vals, Q1_mesh, color=\"teal\", label=\"$Q_1$\")\n",
    "plt.plot(t_vals, Q2_mesh, color=\"teal\", label=\"$Q_2$\")\n",
    "plt.title(\"Test Equations of Motion for $Q_1$ and $Q_2$\")\n",
    "plt.xlabel(\"$t$\")\n",
    "plt.ylabel(\"$Q(t)$\")\n",
    "# plt.xlim(0,t_max)\n",
    "# plt.ylim(-1.8,1.8)\n",
    "# plt.axhline(linewidth='0.4', color='grey')\n",
    "# plt.axvline(x = period_interp(Q0), linewidth='0.4', color='grey')\n",
    "plt.legend()\n",
    "plt.show()\n",
    "# print(period_interp(Q0))"
   ]
  },
  {
   "cell_type": "markdown",
   "id": "d1f3e736-3493-40d5-86e1-b89eff43258b",
   "metadata": {},
   "source": [
    "With your code complete, you can test four cases for the initial conditions (all with the initial velocity set to zero):\n",
    "\n",
    "1. $Q_1(0) = 0$, $Q_2(0) = 1$ (**submit this plot**)\n",
    "2. $Q_1(0) = 0$, $Q_2(0) = -1$\n",
    "3. $Q_1(0) = 1$, $Q_2(0) = 0$\n",
    "4. $Q_1(0) = -1$, $Q_2(0) = 0$"
   ]
  },
  {
   "cell_type": "code",
   "execution_count": null,
   "id": "d8b708ad-ae73-40a8-90af-44c0408ec29d",
   "metadata": {},
   "outputs": [],
   "source": []
  },
  {
   "cell_type": "code",
   "execution_count": 26,
   "id": "1e1b96b9-9dbf-4ace-b3b5-7110e8902c66",
   "metadata": {},
   "outputs": [
    {
     "data": {
      "application/vnd.jupyter.widget-view+json": {
       "model_id": "ddb29d7f4fcf4a7184a246777fee9df4",
       "version_major": 2,
       "version_minor": 0
      },
      "text/plain": [
       "interactive(children=(FloatSlider(value=1.0, description='$K_1$', max=20.0, min=-20.0), FloatSlider(value=0.2,…"
      ]
     },
     "metadata": {},
     "output_type": "display_data"
    },
    {
     "data": {
      "text/plain": [
       "<function __main__.plot_coupled_oscillators(K1, K2, C)>"
      ]
     },
     "execution_count": 26,
     "metadata": {},
     "output_type": "execute_result"
    }
   ],
   "source": [
    "import numpy as np\n",
    "import matplotlib.pyplot as plt\n",
    "import ipywidgets as widgets\n",
    "\n",
    "def plot_coupled_oscillators(K1,K2,C):\n",
    "    # define potential energy function\n",
    "    def coupled_potentials(Q1, Q2, K1 = 1.0, K2 = 0.2, C = 0.5):\n",
    "        return 0.5*K1*Q1**2 + 0.5*K2*Q2**2 + C*Q1*Q2**2/3\n",
    "    \n",
    "    # define mesh for plotting\n",
    "    Q1 = np.linspace(-1.5, 1.5, 100)\n",
    "    Q2 = np.linspace(-1.5, 1.5, 100)\n",
    "    Q1_grid, Q2_grid = np.meshgrid(Q1,Q2)\n",
    "    \n",
    "    # define potential energy values\n",
    "    U_grid = coupled_potentials(Q1_grid,Q2_grid,K1,K2,C)\n",
    "    \n",
    "    # construct contour plot\n",
    "    plt.figure(figsize = (5,4))\n",
    "    plt.contourf(Q1_grid,Q2_grid,U_grid, levels=50, cmap='viridis')\n",
    "    plt.plot(Q1_mesh, Q2_mesh, color='red', label=\"Trajectory\")\n",
    "    # plt.contour(Q1_grid, Q2_grid, U_grid, levels=50, colors='white', linewidths=1)\n",
    "    plt.title(\"Potential Energy of a 2D Harmonic Oscillator\")\n",
    "    plt.colorbar(label = \"Potential energy $U(Q)$\")\n",
    "    plt.xlabel(\"Displacement $Q_1$\")\n",
    "    plt.ylabel(\"Displacement $Q_2$\")\n",
    "    plt.xlim([-1.5,1.5])\n",
    "    plt.ylim([-1.5,1.5])\n",
    "    plt.show()\n",
    "\n",
    "widgets.interact(plot_coupled_oscillators,\n",
    "                 K1  = widgets.FloatSlider(value = 1.0, min = -20.0, max = 20.0, step = 0.1, description = \"$K_1$\"),\n",
    "                 K2  = widgets.FloatSlider(value = 0.2, min = -20.0, max = 20.0, step = 0.1, description = \"$K_2$\"),\n",
    "                 C   = widgets.FloatSlider(value = 0.5, min = -5.0, max = 5.0, step = 0.1, description = \"$C$\")\n",
    "                )"
   ]
  },
  {
   "cell_type": "markdown",
   "id": "166bef0c-4775-4e60-906e-cbf076665ca2",
   "metadata": {},
   "source": [
    "#### NOTE\n",
    "\n",
    "Contour plot: take from that homework where we first started learning how to plot, adjust to make it anharmonic\n",
    "\n",
    "Trajectory plot: find eqs of motion (easy) and make sure to get the correct value for $\\omega$ (less easy)\n",
    "\n",
    "and then play around with the plot to find the physical explanation (can imagine as oscillators, e.g. springs?)"
   ]
  }
 ],
 "metadata": {
  "kernelspec": {
   "display_name": "Python 3 (ipykernel)",
   "language": "python",
   "name": "python3"
  },
  "language_info": {
   "codemirror_mode": {
    "name": "ipython",
    "version": 3
   },
   "file_extension": ".py",
   "mimetype": "text/x-python",
   "name": "python",
   "nbconvert_exporter": "python",
   "pygments_lexer": "ipython3",
   "version": "3.9.19"
  }
 },
 "nbformat": 4,
 "nbformat_minor": 5
}
