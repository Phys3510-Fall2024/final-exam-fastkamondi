{
 "cells": [
  {
   "cell_type": "markdown",
   "id": "8d7c3dcd-5e18-4bfa-a932-da5ec1c22528",
   "metadata": {},
   "source": [
    "## Question 2 (50 points)\n",
    "\n",
    "***This question consists of pseudocode, extracting a frequency numerically, and plotting. Pull code from homework and midterms to optimize your effort.***\n",
    "\n",
    "For the following potential energy for an anharmonic oscillator, we will create a figure that shows the angular frequency, $\\omega$ versus the initial amplitude of the oscillator $Q_0$.\n",
    "\n",
    "### The potential energy (notice the minus sign on the fourth-order term)\n",
    "\n",
    "$$ \\Delta U = \\frac{1}{2} K Q^2 - \\frac{1}{4} D Q^4 + \\frac{1}{6} \\Phi Q^6 $$\n",
    "\n",
    "### Constrained parameters\n",
    "\n",
    "Take $K = 1$, $D=2.4$, $\\Phi=1$, and $M = 1$.\n",
    "\n",
    "### Plotting constraints\n",
    "\n",
    "Plot a range of initial displacements spanning $Q_0 = \\pm 1.7$ (see the representative plot below)\n",
    "\n",
    "### Extracting the angular frequency\n",
    "\n",
    "Recall that in the second midterm and subsequent weeks we developed a strategy for a variant of this problem which used the following steps:\n",
    "\n",
    "1. Solve the differential equation for $Q(t)$ for initial value $Q_0$ (take the initial velocity to be zero);\n",
    "2. Use `ipywidgets` to explore this solution in a figure and extract approximate values of the period $T$ as a function of $Q_0$. We found $T$ by getting the time from peak to peak or valley to valley;\n",
    "3. Interpolate the approximate values of $T$;\n",
    "4. Use in interpolated values of $T$ as a guess for a minima finding algorithm;\n",
    "5. Convert the extracted values of $T$ to angular frequency by $\\omega=\\frac{2\\pi}{T}$.\n",
    "6. To deal with the stationary solutions (e.g. $Q_0 = 0$), we used analytic results for the angular frequency by taking using the formula $\\omega = \\sqrt{\\frac{1}{M}\\frac{d^2\\Delta U}{d Q^2}}$.\n",
    "\n",
    "***This means you should be able to copy and paste most of the code from the midterm and subsequent weeks to optimize your effort***\n",
    "\n",
    "### Steps to construct the plot\n",
    "\n",
    "1. Write pseudocode to set up your strategy (**10 points**);\n",
    "2. Expand your pseudocode to include INPUT, OUTPUT, and TESTS that you could use to program each custom function (**10 points**);\n",
    "3. Write those functions and test them (**10 points**);\n",
    "4. Combine your custom functions for streamlined code and the plot of $\\omega$ versus $Q_0$ (**10 points**);\n",
    "5. Describe the plot in your own words (**10 points**)."
   ]
  },
  {
   "cell_type": "markdown",
   "id": "2b34c8d2-64d2-4981-82a9-a0cf4ce9198b",
   "metadata": {},
   "source": [
    "### Plot of the potential energy"
   ]
  },
  {
   "cell_type": "code",
   "execution_count": 7,
   "id": "a50f8e1e-81f4-4e36-8300-8a11f9d5bc95",
   "metadata": {},
   "outputs": [
    {
     "data": {
      "application/vnd.jupyter.widget-view+json": {
       "model_id": "b3727c9150914cb4a539f89319cf1538",
       "version_major": 2,
       "version_minor": 0
      },
      "text/plain": [
       "interactive(children=(FloatSlider(value=1.0, description='$K$', max=5.0), FloatSlider(value=2.4, description='…"
      ]
     },
     "metadata": {},
     "output_type": "display_data"
    },
    {
     "data": {
      "text/plain": [
       "<function __main__.plot_potential_energy(K, D, Phi)>"
      ]
     },
     "execution_count": 7,
     "metadata": {},
     "output_type": "execute_result"
    }
   ],
   "source": [
    "import numpy as np\n",
    "import matplotlib.pyplot as plt\n",
    "import ipywidgets as widgets\n",
    "\n",
    "def plot_potential_energy(K, D, Phi):\n",
    "    # define potential function\n",
    "    def potential_energy(Q, K=1.0, D=2.4, Phi=1.0):\n",
    "        return (1/2) * K * Q**2 - (1/4) * D * Q**4 + (1/6) * Phi * Q**6\n",
    "    \n",
    "    # define mesh for plotting\n",
    "    Q_mesh = np.linspace(-2,2,100)\n",
    "    U_mesh = potential_energy(Q_mesh, K, D, Phi)\n",
    "    \n",
    "    # construct figure\n",
    "    plt.figure(figsize=(5, 4))\n",
    "    plt.plot(Q_mesh, U_mesh, color=\"teal\")\n",
    "    plt.xlabel(\"$Q$\")\n",
    "    plt.ylabel(\"$\\Delta U$\")\n",
    "    plt.xlim(-2,2)\n",
    "    plt.ylim(-0.1,0.25)\n",
    "    plt.axhline(linewidth='0.4',color='grey')\n",
    "    plt.axvline(linewidth='0.4',color='grey')\n",
    "    plt.show()\n",
    "\n",
    "widgets.interact(plot_potential_energy,\n",
    "                 K   = widgets.FloatSlider(min=0, max=5, step=0.1, value=1.0, description='$K$'),\n",
    "                 D   = widgets.FloatSlider(min=0, max=5, step=0.1, value=2.4, description='$D$'),\n",
    "                 Phi = widgets.FloatSlider(min=0, max=5, step=0.1, value=1.0, description='$\\Phi$')\n",
    "                )"
   ]
  },
  {
   "cell_type": "markdown",
   "id": "1d7280cb-caf1-43f4-811d-56f4746ad71e",
   "metadata": {},
   "source": [
    "$$ \\Delta U = \\frac{1}{2} K Q^2 - \\frac{1}{4} D Q^4 + \\frac{1}{6} \\Phi Q^6 $$"
   ]
  },
  {
   "cell_type": "markdown",
   "id": "da8eecd1-df03-46a5-a381-bad1b1e5f7c8",
   "metadata": {},
   "source": [
    "Plot a range of initial displacements spanning $Q_0 = \\pm 1.7$\n",
    "\n",
    "Create a figure that shows angular frequency $\\omega$ vs initial amplitude $Q_0$.\n",
    "\n",
    "**PLAN**:\n",
    "* Plot potential energy with changeable $K$, $D$, and $\\Phi$ values to explore the dynamics of the problem\n",
    "* Solve equations of motion (try analytically first, if I get stuck then use a numerical solver)\n",
    "* Plot $Q(t)$ vs $Q_0$ with adjustable $Q_0$ values\n",
    "* Extract approximate $\\tau$ values for each $Q_0$ to get a guess for a minima or root finder\n",
    "* Convert $\\tau$ to $\\omega$ with $\\omega = \\frac{2\\pi}{\\tau}$\n",
    "* Use the approximated $\\omega$ values to create the plot of $\\omega$ vs $Q_0$"
   ]
  },
  {
   "cell_type": "markdown",
   "id": "394047e1-d780-4bee-b2bb-1a4a4fb9f300",
   "metadata": {},
   "source": [
    "#### Equations of Motion:\n",
    "\n",
    "$\\Delta U = \\frac12KQ^2 - \\frac14DQ^4 + \\frac16\\Phi Q^6$\n",
    "\n",
    "---\n",
    "\n",
    "$Q(t) = Acos(\\omega t) + Bsin(\\omega t)$\n",
    "\n",
    "$\\dot Q(t) = -A\\omega sin(\\omega t) + B\\omega cos(\\omega t)$\n",
    "\n",
    "$\\ddot Q(t) = -A\\omega^2cos(\\omega t) - B\\omega^2 sin(\\omega t)$\n",
    "\n",
    "---\n",
    "\n",
    "$Q(0) = Q_0 = Acos(0) + Bsin(0) \\rightarrow A = Q_0$\n",
    "\n",
    "$\\dot Q(0) = V_0 = -A\\omega_0sin(0) + B\\omega_0cos(0) \\rightarrow B = \\frac{V_0}{\\omega_0}$\n",
    "\n",
    "---\n",
    "\n",
    "$\\omega = \\sqrt{\\frac{1}{M}\\frac{d^2U}{dQ^2}} \\rightarrow \\omega = \\sqrt{\\frac{1}{M}(K - 3DQ^2 + 5\\Phi Q^4)} \\rightarrow \\omega_0 = \\sqrt{\\frac{K}{M}}$\n",
    "\n",
    "---\n",
    "\n",
    "$Q(t) = Q_0cos(\\omega t) + V_0\\sqrt{\\frac{M}{K}}sin(\\omega t)$"
   ]
  },
  {
   "cell_type": "code",
   "execution_count": 29,
   "id": "fdd52379-c3c6-4203-b7fd-0477014c41bf",
   "metadata": {},
   "outputs": [
    {
     "data": {
      "application/vnd.jupyter.widget-view+json": {
       "model_id": "96c69db942b44b2691ad8bdaf4eeec97",
       "version_major": 2,
       "version_minor": 0
      },
      "text/plain": [
       "interactive(children=(FloatSlider(value=0.1, description='$Q_0$', max=1.7, min=-1.7), FloatSlider(value=5.0, d…"
      ]
     },
     "metadata": {},
     "output_type": "display_data"
    },
    {
     "data": {
      "text/plain": [
       "<function __main__.plot_Q_vs_Q0(Q0, t_max=5)>"
      ]
     },
     "execution_count": 29,
     "metadata": {},
     "output_type": "execute_result"
    }
   ],
   "source": [
    "import numpy as np\n",
    "import matplotlib.pyplot as plt\n",
    "import ipywidgets as widgets\n",
    "\n",
    "# plot Q(t) vs Q_0\n",
    "def plot_Q_vs_Q0(Q0, t_max=5):\n",
    "    # using omega0 as omega temporarily\n",
    "    def eqs_motion_harmonic(t_vals, Q0 = 0.1, V0 = 0.0, K=1.0, D=2.4, Phi=1.0, M = 1.0):\n",
    "        omega0 = np.sqrt(K/M)\n",
    "        return Q0*np.cos(omega0*t_vals) + V0/omega0*np.sin(omega0*t_vals)\n",
    "\n",
    "    def eqs_motion_anharmonic(t_vals, Q0 = 0.1, V0 = 0.0, K=1.0, D=2.4, Phi=1.0, M = 1.0):\n",
    "        omega0 = np.sqrt(K/M)\n",
    "        # return Q0*np.cos(omega0*t_vals) + V0/omega0*np.sin(omega0*t_vals)\n",
    "    \n",
    "    # define mesh for plotting\n",
    "    t_vals = np.linspace(0,t_max,200)\n",
    "    Q_vals_harmonic = eqs_motion_harmonic(t_vals, Q0)\n",
    "    \n",
    "    # construct figure\n",
    "    plt.figure(figsize=(12, 4))\n",
    "    plt.plot(t_vals, Q_vals_harmonic, color=\"teal\", label=\"Harmonic Oscillator\")\n",
    "    plt.xlabel(\"$Q_0$\")\n",
    "    plt.ylabel(\"$Q(t)$\")\n",
    "    plt.xlim(0,t_max)\n",
    "    # plt.ylim(-0.5,0.5)\n",
    "    plt.axhline(linewidth='0.4',color='grey')\n",
    "    plt.axvline(linewidth='0.4',color='grey')\n",
    "    plt.show()\n",
    "\n",
    "widgets.interact(plot_Q_vs_Q0,\n",
    "                 Q0    = widgets.FloatSlider(min=-1.7, max=1.7, step=0.1, value=0.1, description='$Q_0$'),\n",
    "                 t_max = widgets.FloatSlider(min=0.0,  max=200,  step=1.0, value=5.0, description='Max Time')\n",
    "                )"
   ]
  }
 ],
 "metadata": {
  "kernelspec": {
   "display_name": "Python 3 (ipykernel)",
   "language": "python",
   "name": "python3"
  },
  "language_info": {
   "codemirror_mode": {
    "name": "ipython",
    "version": 3
   },
   "file_extension": ".py",
   "mimetype": "text/x-python",
   "name": "python",
   "nbconvert_exporter": "python",
   "pygments_lexer": "ipython3",
   "version": "3.9.19"
  }
 },
 "nbformat": 4,
 "nbformat_minor": 5
}
