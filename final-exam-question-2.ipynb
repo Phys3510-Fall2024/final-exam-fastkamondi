{
 "cells": [
  {
   "cell_type": "markdown",
   "id": "8d7c3dcd-5e18-4bfa-a932-da5ec1c22528",
   "metadata": {},
   "source": [
    "## Question 2 (50 points)\n",
    "\n",
    "***This question consists of pseudocode, extracting a frequency numerically, and plotting. Pull code from homework and midterms to optimize your effort.***\n",
    "\n",
    "For the following potential energy for an anharmonic oscillator, we will create a figure that shows the angular frequency, $\\omega$ versus the initial amplitude of the oscillator $Q_0$.\n",
    "\n",
    "### The potential energy (notice the minus sign on the fourth-order term)\n",
    "\n",
    "$$ \\Delta U = \\frac{1}{2} K Q^2 - \\frac{1}{4} D Q^4 + \\frac{1}{6} \\Phi Q^6 $$\n",
    "\n",
    "### Constrained parameters\n",
    "\n",
    "Take $K = 1$, $D=2.4$, $\\Phi=1$, and $M = 1$.\n",
    "\n",
    "### Plotting constraints\n",
    "\n",
    "Plot a range of initial displacements spanning $Q_0 = \\pm 1.7$ (see the representative plot below)\n",
    "\n",
    "### Extracting the angular frequency\n",
    "\n",
    "Recall that in the second midterm and subsequent weeks we developed a strategy for a variant of this problem which used the following steps:\n",
    "\n",
    "1. Solve the differential equation for $Q(t)$ for initial value $Q_0$ (take the initial velocity to be zero);\n",
    "2. Use `ipywidgets` to explore this solution in a figure and extract approximate values of the period $T$ as a function of $Q_0$. We found $T$ by getting the time from peak to peak or valley to valley;\n",
    "3. Interpolate the approximate values of $T$;\n",
    "4. Use in interpolated values of $T$ as a guess for a minima finding algorithm;\n",
    "5. Convert the extracted values of $T$ to angular frequency by $\\omega=\\frac{2\\pi}{T}$.\n",
    "6. To deal with the stationary solutions (e.g. $Q_0 = 0$), we used analytic results for the angular frequency by taking using the formula $\\omega = \\sqrt{\\frac{1}{M}\\frac{d^2\\Delta U}{d Q^2}}$.\n",
    "\n",
    "***This means you should be able to copy and paste most of the code from the midterm and subsequent weeks to optimize your effort***\n",
    "\n",
    "### Steps to construct the plot\n",
    "\n",
    "1. Write pseudocode to set up your strategy (**10 points**);\n",
    "2. Expand your pseudocode to include INPUT, OUTPUT, and TESTS that you could use to program each custom function (**10 points**);\n",
    "3. Write those functions and test them (**10 points**);\n",
    "4. Combine your custom functions for streamlined code and the plot of $\\omega$ versus $Q_0$ (**10 points**);\n",
    "5. Describe the plot in your own words (**10 points**)."
   ]
  },
  {
   "cell_type": "markdown",
   "id": "2b34c8d2-64d2-4981-82a9-a0cf4ce9198b",
   "metadata": {},
   "source": [
    "### Plot of the potential energy"
   ]
  },
  {
   "cell_type": "code",
   "execution_count": 4,
   "id": "a50f8e1e-81f4-4e36-8300-8a11f9d5bc95",
   "metadata": {},
   "outputs": [
    {
     "data": {
      "application/vnd.jupyter.widget-view+json": {
       "model_id": "d829160081ac4788b00c8f09f3efe591",
       "version_major": 2,
       "version_minor": 0
      },
      "text/plain": [
       "interactive(children=(FloatSlider(value=1.0, description='$K$', max=5.0), FloatSlider(value=2.4, description='…"
      ]
     },
     "metadata": {},
     "output_type": "display_data"
    },
    {
     "data": {
      "text/plain": [
       "<function __main__.plot_potential_energy(K, D, Phi)>"
      ]
     },
     "execution_count": 4,
     "metadata": {},
     "output_type": "execute_result"
    }
   ],
   "source": [
    "import numpy as np\n",
    "import matplotlib.pyplot as plt\n",
    "import ipywidgets as widgets\n",
    "\n",
    "def plot_potential_energy(K, D, Phi):\n",
    "    # define potential function\n",
    "    def potential_energy(Q, K=1.0, D=2.4, Phi=1.0):\n",
    "        return (1/2) * K * Q**2 - (1/4) * D * Q**4 + (1/6) * Phi * Q**6\n",
    "    \n",
    "    # define mesh for plotting\n",
    "    Q_mesh = np.linspace(-2,2,100)\n",
    "    U_mesh = potential_energy(Q_mesh, K, D, Phi)\n",
    "    \n",
    "    # construct figure\n",
    "    plt.figure(figsize=(5, 4))\n",
    "    plt.plot(Q_mesh, U_mesh, color=\"teal\")\n",
    "    plt.xlabel(\"$Q$\")\n",
    "    plt.ylabel(\"$\\Delta U$\")\n",
    "    plt.xlim(-2,2)\n",
    "    plt.ylim(-0.1,0.25)\n",
    "    plt.axhline(linewidth='0.4',color='grey')\n",
    "    plt.axvline(linewidth='0.4',color='grey')\n",
    "    plt.show()\n",
    "\n",
    "widgets.interact(plot_potential_energy,\n",
    "                 K   = widgets.FloatSlider(min=0, max=5, step=0.1, value=1.0, description='$K$'),\n",
    "                 D   = widgets.FloatSlider(min=0, max=5, step=0.1, value=2.4, description='$D$'),\n",
    "                 Phi = widgets.FloatSlider(min=0, max=5, step=0.1, value=1.0, description='$\\Phi$')\n",
    "                )"
   ]
  },
  {
   "cell_type": "markdown",
   "id": "1d7280cb-caf1-43f4-811d-56f4746ad71e",
   "metadata": {},
   "source": [
    "$$ \\Delta U = \\frac{1}{2} K Q^2 - \\frac{1}{4} D Q^4 + \\frac{1}{6} \\Phi Q^6 $$"
   ]
  },
  {
   "cell_type": "markdown",
   "id": "da8eecd1-df03-46a5-a381-bad1b1e5f7c8",
   "metadata": {},
   "source": [
    "Plot a range of initial displacements spanning $Q_0 = \\pm 1.7$\n",
    "\n",
    "Create a figure that shows angular frequency $\\omega$ vs initial amplitude $Q_0$.\n",
    "\n",
    "**PLAN**:\n",
    "* Plot potential energy with changeable $K$, $D$, and $\\Phi$ values to explore the dynamics of the problem\n",
    "* Solve equations of motion (try analytically first, if I get stuck then use a numerical solver)\n",
    "* Plot $Q(t)$ vs $Q_0$ with adjustable $Q_0$ values with anharmonic and harmonic case\n",
    "* Extract approximate $\\tau$ values for each $Q_0$ to get a guess for a minima finder\n",
    "* Minima finder will give half-period, double each value to get numerically solved $\\tau$\n",
    "* Convert $\\tau$ to $\\omega$ with $\\omega = \\frac{2\\pi}{\\tau}$\n",
    "* Use the approximated $\\omega$ values to create the plot of $\\omega$ vs $Q_0$"
   ]
  },
  {
   "cell_type": "markdown",
   "id": "394047e1-d780-4bee-b2bb-1a4a4fb9f300",
   "metadata": {},
   "source": [
    "#### Equations of Motion:\n",
    "\n",
    "$\\Delta U = \\frac12KQ^2 - \\frac14DQ^4 + \\frac16\\Phi Q^6$\n",
    "\n",
    "---\n",
    "\n",
    "$Q(t) = Acos(\\omega t) + Bsin(\\omega t)$\n",
    "\n",
    "$\\dot Q(t) = -A\\omega sin(\\omega t) + B\\omega cos(\\omega t)$\n",
    "\n",
    "$\\ddot Q(t) = -A\\omega^2cos(\\omega t) - B\\omega^2 sin(\\omega t)$\n",
    "\n",
    "---\n",
    "\n",
    "$Q(0) = Q_0 = Acos(0) + Bsin(0) \\rightarrow A = Q_0$\n",
    "\n",
    "$\\dot Q(0) = V_0 = -A\\omega_0sin(0) + B\\omega_0cos(0) \\rightarrow B = \\frac{V_0}{\\omega_0}$\n",
    "\n",
    "---\n",
    "\n",
    "$\\omega = \\sqrt{\\frac{1}{M}\\frac{d^2U}{dQ^2}} \\rightarrow \\omega = \\sqrt{\\frac{1}{M}(K - 3DQ^2 + 5\\Phi Q^4)} \\rightarrow \\omega_0 = \\sqrt{\\frac{K}{M}}$\n",
    "\n",
    "---\n",
    "\n",
    "$Q(t) = Q_0cos(\\omega t) + V_0\\sqrt{\\frac{M}{K}}sin(\\omega t)$"
   ]
  },
  {
   "cell_type": "markdown",
   "id": "1708972b-d307-4127-b0fc-95b2dbb70eac",
   "metadata": {},
   "source": [
    "$\\omega = \\sqrt{\\frac{1}{M}(K - 3DQ^2 +5\\Phi Q^4)}$\n",
    "\n",
    "Small angle approximation: $(1 + \\epsilon)^\\frac12 = 1 + \\epsilon + ...$\n",
    "\n",
    "$\\omega = \\sqrt{\\frac{K}{M}}\\sqrt{1 - \\frac{3D}{K}Q^2 + \\frac{5\\Phi}{K}Q^4} \\approx \\sqrt{\\frac{K}{M}}(1 - \\frac{3D}{2K}Q^2 + \\frac{5\\Phi}{2K}Q^4)$\n",
    "\n",
    "$\\omega = \\omega_0(1 - \\frac{3D}{2K}Q^2 + \\frac{5\\Phi}{2K}Q^4)$"
   ]
  },
  {
   "cell_type": "markdown",
   "id": "38595616-a23d-4b83-b464-216c78729df4",
   "metadata": {},
   "source": [
    "#### To use RK45 Solver:\n",
    "\n",
    "Define first-order system of differential equations:\n",
    "\n",
    "$\\dot Q = V$\n",
    "\n",
    "$\\dot V = -\\frac{K}{M}Q + \\frac{D}{M}Q^3 - \\frac{\\Phi}{M}Q^5$"
   ]
  },
  {
   "cell_type": "code",
   "execution_count": 49,
   "id": "fcc6907f-ea24-4805-b96d-a344c82a71fb",
   "metadata": {},
   "outputs": [],
   "source": [
    "from scipy.interpolate import interp1d\n",
    "\n",
    "Q0_by_hand     = np.array([0.0000, 0.1300, 0.1800, 0.2200, 0.2800, 0.3300, 0.3700, 0.4100, 0.4600, 0.4900, 0.5100, 0.5600, 0.6000, 0.6700])\n",
    "period_by_hand = np.array([1.0000, 1.0141, 1.0277, 1.0455, 1.0769, 1.1111, 1.1429, 1.1818, 1.2500, 1.2727, 1.3333, 1.4286, 1.5714, 2.0000])\n",
    "period_by_hand = 4*period_by_hand\n",
    "\n",
    "Q0_by_hand = np.concatenate((-np.flip(Q0_by_hand), Q0_by_hand))\n",
    "period_by_hand = np.concatenate((np.flip(period_by_hand), period_by_hand))\n",
    "\n",
    "period_interp = interp1d(Q0_by_hand, period_by_hand, kind='linear')\n",
    "\n",
    "# frequency_by_hand = 2*np.pi / period_by_hand\n",
    "# # interpolate guess so we can use it in between the points we gathered\n",
    "# omega_interp = interp1d(Q0_by_hand, frequency_by_hand, kind='linear')\n",
    "\n",
    "# # test interpolation\n",
    "# Q0_mesh = np.linspace(-0.67,0.67,11)\n",
    "# omega_interp_mesh = omega_interp(Q0_mesh)\n",
    "\n",
    "# plt.figure(figsize=(4,4))\n",
    "# plt.plot(Q0_by_hand, frequency_by_hand, label=\"guess at frequency\", color=\"green\", linewidth=1.0, marker='.', linestyle='-')\n",
    "# plt.plot(Q0_mesh, omega_interp_mesh, label=\"frequency interpolation\", color=\"red\", linewidth=1.0, linestyle='-')\n",
    "# plt.xlabel('Initial $Q$')\n",
    "# plt.ylabel('angular frequency')\n",
    "# plt.xlim(-1.0,1.0)\n",
    "# plt.ylim(0,8.0)\n",
    "# plt.legend()\n",
    "# plt.show()"
   ]
  },
  {
   "cell_type": "code",
   "execution_count": 50,
   "id": "fdd52379-c3c6-4203-b7fd-0477014c41bf",
   "metadata": {},
   "outputs": [
    {
     "data": {
      "application/vnd.jupyter.widget-view+json": {
       "model_id": "78fb58cc1ad04baca5187c35fc5e145f",
       "version_major": 2,
       "version_minor": 0
      },
      "text/plain": [
       "interactive(children=(FloatSlider(value=0.6, description='$Q_0$', max=1.7, min=-1.7, step=0.001), FloatSlider(…"
      ]
     },
     "metadata": {},
     "output_type": "display_data"
    },
    {
     "data": {
      "text/plain": [
       "<function __main__.plot_Q_vs_Q0(Q0, t_max=25)>"
      ]
     },
     "execution_count": 50,
     "metadata": {},
     "output_type": "execute_result"
    }
   ],
   "source": [
    "import numpy as np\n",
    "import matplotlib.pyplot as plt\n",
    "import ipywidgets as widgets\n",
    "from scipy.integrate import solve_ivp\n",
    "\n",
    "# plot Q(t) vs Q_0\n",
    "def plot_Q_vs_Q0(Q0, t_max=25):\n",
    "    \n",
    "    def potential_energy(Q, K=1.0, D=2.4, Phi=1.0):\n",
    "        return (1/2) * K * Q**2 - (1/4) * D * Q**4 + (1/6) * Phi * Q**6\n",
    "        \n",
    "    # omega = omega0 for harmonic case\n",
    "    def eqs_motion_harmonic(t_vals, Q0 = 0.1, V0 = 0.0, K=1.0, D=2.4, Phi=1.0, M = 1.0):\n",
    "        omega0 = np.sqrt(K/M)\n",
    "        return Q0*np.cos(omega0*t_vals) + V0/omega0*np.sin(omega0*t_vals)\n",
    "\n",
    "    def anharmonic_oscillator(t_vals, y, K=1.0, D=2.4, Phi=1.0, M = 1.0):\n",
    "        Q, V = y\n",
    "        dQdt = V\n",
    "        dVdt = -(K/M*Q) + (D/M*Q**3) - (Phi/M*Q**5)\n",
    "        return [dQdt, dVdt]\n",
    "\n",
    "    # initial conditions\n",
    "    V0 = 0\n",
    "    K=1.0\n",
    "    D=2.4\n",
    "    Phi=1.0\n",
    "    M = 1.0\n",
    "    \n",
    "    y0 = Q0, V0\n",
    "    sol = solve_ivp(anharmonic_oscillator,\n",
    "                [0, t_max],\n",
    "                y0,\n",
    "                t_eval=np.linspace(0, t_max, 500),\n",
    "                args=(K, D, Phi, M))\n",
    "    \n",
    "    # define mesh for plotting\n",
    "    t_vals = np.linspace(0,t_max,500)\n",
    "    Q_vals_harmonic   = eqs_motion_harmonic(t_vals, Q0)\n",
    "    Q_vals_anharmonic = sol.y[0]\n",
    "    U_vals = potential_energy(Q_vals_anharmonic)\n",
    "    \n",
    "    # construct figure\n",
    "    plt.figure(figsize=(12, 4))\n",
    "    plt.plot(t_vals, Q_vals_harmonic, color=\"teal\", label=\"Harmonic Oscillator\")\n",
    "    plt.plot(t_vals, Q_vals_anharmonic, color=\"red\", label=\"Anharmonic Oscillator\")\n",
    "    plt.plot(t_vals, U_vals, color=\"grey\", label=\"Anharmonic Potential Energy $U(Q)\")\n",
    "    plt.xlabel(\"$t$\")\n",
    "    plt.ylabel(\"$Q(t)$\")\n",
    "    plt.xlim(0,t_max)\n",
    "    plt.ylim(-1.8,1.8)\n",
    "    plt.axhline(linewidth='0.4', color='grey')\n",
    "    plt.axvline(x = period_interp(Q0), linewidth='0.4', color='grey')\n",
    "    plt.show()\n",
    "    # print(period_interp(Q0))\n",
    "\n",
    "widgets.interact(plot_Q_vs_Q0,\n",
    "                 Q0    = widgets.FloatSlider(min=-1.7, max=1.7, step=0.001, value=0.6, description='$Q_0$'),\n",
    "                 t_max = widgets.FloatSlider(min=0.0,  max=200,  step=1.0, value=25.0, description='Max Time')\n",
    "                )"
   ]
  },
  {
   "cell_type": "code",
   "execution_count": null,
   "id": "e7092830-1ade-4c6a-9275-bc454b86206e",
   "metadata": {},
   "outputs": [],
   "source": []
  },
  {
   "cell_type": "markdown",
   "id": "0062950e-dad3-426c-b705-7417f381ea62",
   "metadata": {},
   "source": [
    "**\"Experimental\" Initial amplitude $Q_0$ vs period $\\tau$**, setting the period of the harmonic case equal to 1 ($\\tau_0 = 1$):\n",
    "\n",
    "| $Q_0$  | $\\tau$          | Rounded  |\n",
    "|--------|-----------------|----------|\n",
    "| $0.00$ | $1$             | $1.0000$ |\n",
    "| $0.13$ | $\\frac{72}{71}$ | $1.0141$ |\n",
    "| $0.18$ | $\\frac{37}{36}$ | $1.0277$ |\n",
    "| $0.22$ | $\\frac{23}{22}$ | $1.0455$ |\n",
    "| $0.28$ | $\\frac{14}{13}$ | $1.0769$ |\n",
    "| $0.33$ | $\\frac{10}{9}$  | $1.1111$ |\n",
    "| $0.37$ | $\\frac{8}{7}$   | $1.1429$ |\n",
    "| $0.41$ | $\\frac{13}{11}$ | $1.1818$ |\n",
    "| $0.46$ | $\\frac{5}{4}$   | $1.2500$ |\n",
    "| $0.49$ | $\\frac{14}{11}$ | $1.2727$ |\n",
    "| $0.51$ | $\\frac{4}{3}$   | $1.3333$ |\n",
    "| $0.56$ | $\\frac{10}{7}$  | $1.4286$ |\n",
    "| $0.60$ | $\\frac{11}{7}$  | $1.5714$ |\n",
    "| $0.67$ | $2$             | $2.0000$ |\n",
    "\n"
   ]
  }
 ],
 "metadata": {
  "kernelspec": {
   "display_name": "Python 3 (ipykernel)",
   "language": "python",
   "name": "python3"
  },
  "language_info": {
   "codemirror_mode": {
    "name": "ipython",
    "version": 3
   },
   "file_extension": ".py",
   "mimetype": "text/x-python",
   "name": "python",
   "nbconvert_exporter": "python",
   "pygments_lexer": "ipython3",
   "version": "3.9.19"
  }
 },
 "nbformat": 4,
 "nbformat_minor": 5
}
